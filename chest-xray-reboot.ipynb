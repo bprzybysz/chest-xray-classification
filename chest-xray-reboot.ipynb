{
 "cells": [
  {
   "cell_type": "markdown",
   "source": [
    "# Chest X-Ray Images classification\n",
    "\n",
    "## 1. Introduction\n",
    "Basing on image and patient data we want to classify into one or multiple classes\n",
    "\n",
    "## 2. Data\n",
    "We're working on dataset from Kaggle https://www.kaggle.com/nih-chest-xrays/data.\n",
    "This NIH Chest X-ray Dataset comprises 112,120 X-ray images with disease labels from 30,805 unique patients. To create these labels, the authors used Natural Language Processing to text-mine disease classifications from the associated radiological reports. The labels are expected to be >90% accurate and suitable for weakly-supervised learning.\n",
    "\n",
    "### Data limitations:\n",
    "The image labels are NLP extracted so there could be some erroneous labels but the NLP labeling accuracy is estimated to be >90%.\n",
    "Very limited numbers of disease region bounding boxes (See BBox_list_2017.csv)\n",
    "Chest x-ray radiology reports are not anticipated to be publicly shared. Parties who use this public dataset are encouraged to share their “updated” image labels and/or new bounding boxes in their own studied later, maybe through manual annotation\n",
    "### Class descriptions\n",
    "There are 15 classes (14 diseases, and one for \"No findings\"). Images can be classified as \"No findings\" or one or more disease classes:\n",
    "\n",
    "Atelectasis\n",
    "Consolidation\n",
    "Infiltration\n",
    "Pneumothorax\n",
    "Edema\n",
    "Emphysema\n",
    "Fibrosis\n",
    "Effusion\n",
    "Pneumonia\n",
    "Pleural_thickening\n",
    "Cardiomegaly\n",
    "Nodule Mass\n",
    "Hernia"
   ],
   "metadata": {
    "collapsed": false
   }
  },
  {
   "cell_type": "code",
   "execution_count": null,
   "outputs": [],
   "source": [],
   "metadata": {
    "collapsed": false
   }
  }
 ],
 "metadata": {
  "kernelspec": {
   "display_name": "Python 3",
   "language": "python",
   "name": "python3"
  },
  "language_info": {
   "codemirror_mode": {
    "name": "ipython",
    "version": 2
   },
   "file_extension": ".py",
   "mimetype": "text/x-python",
   "name": "python",
   "nbconvert_exporter": "python",
   "pygments_lexer": "ipython2",
   "version": "2.7.6"
  }
 },
 "nbformat": 4,
 "nbformat_minor": 0
}
