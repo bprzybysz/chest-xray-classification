{
 "cells": [
  {
   "cell_type": "markdown",
   "source": [
    "# From more accurate data description\n",
    "\n",
    "Load 'all_findings_expert_labels_test_individual_readers.csv' to df"
   ],
   "metadata": {
    "collapsed": false
   }
  },
  {
   "cell_type": "code",
   "execution_count": 57,
   "outputs": [],
   "source": [
    "import pandas as pd\n",
    "\n",
    "raw_df = pd.read_csv('data/all_findings_expert_labels_test_individual_readers.csv')"
   ],
   "metadata": {
    "collapsed": false
   }
  },
  {
   "cell_type": "code",
   "execution_count": 58,
   "outputs": [
    {
     "data": {
      "text/plain": "           Image ID  Patient ID   Reader ID  Abnormal Atelectasis  \\\n0  00029560_000.png       29560  4343882583         0          NO   \n1  00029560_000.png       29560  4343882785         0          NO   \n2  00029560_000.png       29560  4343880271         0          NO   \n3  00029560_000.png       29560  4343883996         0          NO   \n4  00029560_000.png       29560  4343883593         0          NO   \n\n  Cardiomegaly Effusion Infiltration Mass Nodule Pneumonia Pneumothorax  \\\n0           NO       NO           NO   NO     NO        NO           NO   \n1           NO       NO           NO   NO     NO        NO           NO   \n2           NO       NO           NO   NO     NO        NO           NO   \n3           NO       NO           NO   NO     NO        NO           NO   \n4           NO       NO           NO   NO     NO        NO           NO   \n\n  Consolidation Edema Emphysema Fibrosis Pleural Thickening Hernia Other  \n0            NO    NO        NO       NO                 NO     NO    NO  \n1            NO    NO        NO       NO                 NO     NO    NO  \n2            NO    NO        NO       NO                 NO     NO    NO  \n3            NO    NO        NO       NO                 NO     NO    NO  \n4            NO    NO        NO       NO                 NO     NO    NO  ",
      "text/html": "<div>\n<style scoped>\n    .dataframe tbody tr th:only-of-type {\n        vertical-align: middle;\n    }\n\n    .dataframe tbody tr th {\n        vertical-align: top;\n    }\n\n    .dataframe thead th {\n        text-align: right;\n    }\n</style>\n<table border=\"1\" class=\"dataframe\">\n  <thead>\n    <tr style=\"text-align: right;\">\n      <th></th>\n      <th>Image ID</th>\n      <th>Patient ID</th>\n      <th>Reader ID</th>\n      <th>Abnormal</th>\n      <th>Atelectasis</th>\n      <th>Cardiomegaly</th>\n      <th>Effusion</th>\n      <th>Infiltration</th>\n      <th>Mass</th>\n      <th>Nodule</th>\n      <th>Pneumonia</th>\n      <th>Pneumothorax</th>\n      <th>Consolidation</th>\n      <th>Edema</th>\n      <th>Emphysema</th>\n      <th>Fibrosis</th>\n      <th>Pleural Thickening</th>\n      <th>Hernia</th>\n      <th>Other</th>\n    </tr>\n  </thead>\n  <tbody>\n    <tr>\n      <th>0</th>\n      <td>00029560_000.png</td>\n      <td>29560</td>\n      <td>4343882583</td>\n      <td>0</td>\n      <td>NO</td>\n      <td>NO</td>\n      <td>NO</td>\n      <td>NO</td>\n      <td>NO</td>\n      <td>NO</td>\n      <td>NO</td>\n      <td>NO</td>\n      <td>NO</td>\n      <td>NO</td>\n      <td>NO</td>\n      <td>NO</td>\n      <td>NO</td>\n      <td>NO</td>\n      <td>NO</td>\n    </tr>\n    <tr>\n      <th>1</th>\n      <td>00029560_000.png</td>\n      <td>29560</td>\n      <td>4343882785</td>\n      <td>0</td>\n      <td>NO</td>\n      <td>NO</td>\n      <td>NO</td>\n      <td>NO</td>\n      <td>NO</td>\n      <td>NO</td>\n      <td>NO</td>\n      <td>NO</td>\n      <td>NO</td>\n      <td>NO</td>\n      <td>NO</td>\n      <td>NO</td>\n      <td>NO</td>\n      <td>NO</td>\n      <td>NO</td>\n    </tr>\n    <tr>\n      <th>2</th>\n      <td>00029560_000.png</td>\n      <td>29560</td>\n      <td>4343880271</td>\n      <td>0</td>\n      <td>NO</td>\n      <td>NO</td>\n      <td>NO</td>\n      <td>NO</td>\n      <td>NO</td>\n      <td>NO</td>\n      <td>NO</td>\n      <td>NO</td>\n      <td>NO</td>\n      <td>NO</td>\n      <td>NO</td>\n      <td>NO</td>\n      <td>NO</td>\n      <td>NO</td>\n      <td>NO</td>\n    </tr>\n    <tr>\n      <th>3</th>\n      <td>00029560_000.png</td>\n      <td>29560</td>\n      <td>4343883996</td>\n      <td>0</td>\n      <td>NO</td>\n      <td>NO</td>\n      <td>NO</td>\n      <td>NO</td>\n      <td>NO</td>\n      <td>NO</td>\n      <td>NO</td>\n      <td>NO</td>\n      <td>NO</td>\n      <td>NO</td>\n      <td>NO</td>\n      <td>NO</td>\n      <td>NO</td>\n      <td>NO</td>\n      <td>NO</td>\n    </tr>\n    <tr>\n      <th>4</th>\n      <td>00029560_000.png</td>\n      <td>29560</td>\n      <td>4343883593</td>\n      <td>0</td>\n      <td>NO</td>\n      <td>NO</td>\n      <td>NO</td>\n      <td>NO</td>\n      <td>NO</td>\n      <td>NO</td>\n      <td>NO</td>\n      <td>NO</td>\n      <td>NO</td>\n      <td>NO</td>\n      <td>NO</td>\n      <td>NO</td>\n      <td>NO</td>\n      <td>NO</td>\n      <td>NO</td>\n    </tr>\n  </tbody>\n</table>\n</div>"
     },
     "execution_count": 58,
     "metadata": {},
     "output_type": "execute_result"
    }
   ],
   "source": [
    "raw_df.head()"
   ],
   "metadata": {
    "collapsed": false
   }
  },
  {
   "cell_type": "code",
   "execution_count": 59,
   "outputs": [
    {
     "data": {
      "text/plain": "2731"
     },
     "execution_count": 59,
     "metadata": {},
     "output_type": "execute_result"
    }
   ],
   "source": [
    "# create df from raw_df where 'Abnormal' == 1.\n",
    "raw_df = raw_df[raw_df['Abnormal'] == 1]\n",
    "raw_df.shape[0]"
   ],
   "metadata": {
    "collapsed": false
   }
  },
  {
   "cell_type": "code",
   "execution_count": 60,
   "outputs": [],
   "source": [
    "df = pd.DataFrame()\n",
    "\n",
    "# convert values in column 'Atelectasis' to 1 if value is 1, else 0 and store in new column df column 'Atelectasis'\n",
    "\n",
    "for col in raw_df.columns[4:]:\n",
    "    df[col] = raw_df[col].apply(lambda x: 1 if x == 'YES' else 0)"
   ],
   "metadata": {
    "collapsed": false
   }
  },
  {
   "cell_type": "code",
   "execution_count": 61,
   "outputs": [],
   "source": [
    "for col in raw_df.columns[4:]:\n",
    "    raw_df[col] = df[col]\n",
    "df = None"
   ],
   "metadata": {
    "collapsed": false
   }
  },
  {
   "cell_type": "code",
   "execution_count": 62,
   "outputs": [],
   "source": [
    "raw_df.drop(columns=['Patient ID', 'Reader ID', 'Abnormal'], inplace=True)"
   ],
   "metadata": {
    "collapsed": false
   }
  },
  {
   "cell_type": "code",
   "execution_count": 63,
   "outputs": [],
   "source": [
    "\n",
    "# Group by 'Image ID' and sum the values in each column\n",
    "raw_df = raw_df.groupby('Image ID').sum()"
   ],
   "metadata": {
    "collapsed": false
   }
  },
  {
   "cell_type": "code",
   "execution_count": 64,
   "outputs": [
    {
     "data": {
      "text/plain": "                  Atelectasis  Cardiomegaly  Effusion  Infiltration  Mass  \\\nImage ID                                                                    \n00000211_006.png            2             5         0             0     0   \n00000211_022.png            3             5         2             1     0   \n00000211_028.png            1             5         0             0     0   \n00000211_029.png            2             5         3             0     0   \n00000218_002.png            2             0         0             2     0   \n\n                  Nodule  Pneumonia  Pneumothorax  Consolidation  Edema  \\\nImage ID                                                                  \n00000211_006.png       0          0             0              0      0   \n00000211_022.png       0          0             0              2      0   \n00000211_028.png       2          0             0              1      0   \n00000211_029.png       0          0             0              1      0   \n00000218_002.png       4          0             0              4      1   \n\n                  Emphysema  Fibrosis  Pleural Thickening  Hernia  Other  \nImage ID                                                                  \n00000211_006.png          0         0                   0       0      0  \n00000211_022.png          0         0                   1       1      0  \n00000211_028.png          0         0                   1       0      0  \n00000211_029.png          0         0                   2       0      0  \n00000218_002.png          0         0                   0       0      0  ",
      "text/html": "<div>\n<style scoped>\n    .dataframe tbody tr th:only-of-type {\n        vertical-align: middle;\n    }\n\n    .dataframe tbody tr th {\n        vertical-align: top;\n    }\n\n    .dataframe thead th {\n        text-align: right;\n    }\n</style>\n<table border=\"1\" class=\"dataframe\">\n  <thead>\n    <tr style=\"text-align: right;\">\n      <th></th>\n      <th>Atelectasis</th>\n      <th>Cardiomegaly</th>\n      <th>Effusion</th>\n      <th>Infiltration</th>\n      <th>Mass</th>\n      <th>Nodule</th>\n      <th>Pneumonia</th>\n      <th>Pneumothorax</th>\n      <th>Consolidation</th>\n      <th>Edema</th>\n      <th>Emphysema</th>\n      <th>Fibrosis</th>\n      <th>Pleural Thickening</th>\n      <th>Hernia</th>\n      <th>Other</th>\n    </tr>\n    <tr>\n      <th>Image ID</th>\n      <th></th>\n      <th></th>\n      <th></th>\n      <th></th>\n      <th></th>\n      <th></th>\n      <th></th>\n      <th></th>\n      <th></th>\n      <th></th>\n      <th></th>\n      <th></th>\n      <th></th>\n      <th></th>\n      <th></th>\n    </tr>\n  </thead>\n  <tbody>\n    <tr>\n      <th>00000211_006.png</th>\n      <td>2</td>\n      <td>5</td>\n      <td>0</td>\n      <td>0</td>\n      <td>0</td>\n      <td>0</td>\n      <td>0</td>\n      <td>0</td>\n      <td>0</td>\n      <td>0</td>\n      <td>0</td>\n      <td>0</td>\n      <td>0</td>\n      <td>0</td>\n      <td>0</td>\n    </tr>\n    <tr>\n      <th>00000211_022.png</th>\n      <td>3</td>\n      <td>5</td>\n      <td>2</td>\n      <td>1</td>\n      <td>0</td>\n      <td>0</td>\n      <td>0</td>\n      <td>0</td>\n      <td>2</td>\n      <td>0</td>\n      <td>0</td>\n      <td>0</td>\n      <td>1</td>\n      <td>1</td>\n      <td>0</td>\n    </tr>\n    <tr>\n      <th>00000211_028.png</th>\n      <td>1</td>\n      <td>5</td>\n      <td>0</td>\n      <td>0</td>\n      <td>0</td>\n      <td>2</td>\n      <td>0</td>\n      <td>0</td>\n      <td>1</td>\n      <td>0</td>\n      <td>0</td>\n      <td>0</td>\n      <td>1</td>\n      <td>0</td>\n      <td>0</td>\n    </tr>\n    <tr>\n      <th>00000211_029.png</th>\n      <td>2</td>\n      <td>5</td>\n      <td>3</td>\n      <td>0</td>\n      <td>0</td>\n      <td>0</td>\n      <td>0</td>\n      <td>0</td>\n      <td>1</td>\n      <td>0</td>\n      <td>0</td>\n      <td>0</td>\n      <td>2</td>\n      <td>0</td>\n      <td>0</td>\n    </tr>\n    <tr>\n      <th>00000218_002.png</th>\n      <td>2</td>\n      <td>0</td>\n      <td>0</td>\n      <td>2</td>\n      <td>0</td>\n      <td>4</td>\n      <td>0</td>\n      <td>0</td>\n      <td>4</td>\n      <td>1</td>\n      <td>0</td>\n      <td>0</td>\n      <td>0</td>\n      <td>0</td>\n      <td>0</td>\n    </tr>\n  </tbody>\n</table>\n</div>"
     },
     "execution_count": 64,
     "metadata": {},
     "output_type": "execute_result"
    }
   ],
   "source": [
    "raw_df.head()"
   ],
   "metadata": {
    "collapsed": false
   }
  },
  {
   "cell_type": "code",
   "execution_count": 72,
   "outputs": [],
   "source": [
    "import numpy as np\n",
    "# count rows for each column where value is greater than 0\n",
    "sums = np.zeros(14)\n",
    "for i, col in enumerate(raw_df.columns[1:]):\n",
    "    sums[i] = raw_df[col].apply(lambda x: 1 if x > 0 else 0).sum()"
   ],
   "metadata": {
    "collapsed": false
   }
  },
  {
   "cell_type": "code",
   "execution_count": 73,
   "outputs": [
    {
     "data": {
      "text/plain": "array([208., 332., 248., 207., 301.,  65., 204., 435., 185., 131., 118.,\n       295.,  22., 197.])"
     },
     "execution_count": 73,
     "metadata": {},
     "output_type": "execute_result"
    }
   ],
   "source": [
    "sums"
   ],
   "metadata": {
    "collapsed": false
   }
  },
  {
   "cell_type": "code",
   "execution_count": null,
   "outputs": [],
   "source": [],
   "metadata": {
    "collapsed": false
   }
  }
 ],
 "metadata": {
  "kernelspec": {
   "display_name": "Python 3",
   "language": "python",
   "name": "python3"
  },
  "language_info": {
   "codemirror_mode": {
    "name": "ipython",
    "version": 2
   },
   "file_extension": ".py",
   "mimetype": "text/x-python",
   "name": "python",
   "nbconvert_exporter": "python",
   "pygments_lexer": "ipython2",
   "version": "2.7.6"
  }
 },
 "nbformat": 4,
 "nbformat_minor": 0
}
