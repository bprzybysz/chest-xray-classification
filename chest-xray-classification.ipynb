{
 "cells": [
  {
   "cell_type": "markdown",
   "source": [
    "# Chest X-Ray Vison\n",
    "\n",
    "## 1. Problem\n",
    "This notebook is a simple example of using a pre-trained model to classify chest x-rays. The model is trained on the NIH Chest X-Ray dataset, which contains 112,120 images of chest x-rays. The dataset is split into 14 classes, which are:\n",
    "- Atelectasis\n",
    "- Cardiomegaly\n",
    "- Effusion\n",
    "- Infiltration\n",
    "- Mass\n",
    "- Nodule\n",
    "- Pneumonia\n",
    "- Pneumothorax\n",
    "- Consolidation\n",
    "- Edema\n",
    "- Emphysema\n",
    "- Fibrosis\n",
    "- Pleural_Thickening\n",
    "- Hernia\n",
    "- No Finding\n",
    "\n",
    "When I receive new chest x-rays, I want to be able to quickly classify them into one of these 14 classes. This will help me to quickly identify the most important x-rays to review.\n",
    "\n",
    "## 2. Data\n",
    "The data is available on Kaggle at https://www.kaggle.com/nih-chest-xrays/data. and was downloaded and extracted to the data folder.\n",
    "Data was distributed into 12 directories\n",
    "\n",
    "\n",
    "## 3. Evaluation\n",
    "Evaluation is prediction probability of each class for each image. The evaluation metric is the mean average precision at different intersection over union (IoU) thresholds. The model will be evaluated on the test set.\n"
   ],
   "metadata": {
    "collapsed": false
   }
  },
  {
   "cell_type": "code",
   "execution_count": 53,
   "outputs": [
    {
     "data": {
      "text/plain": "('2.11.0', '0.12.0')"
     },
     "execution_count": 53,
     "metadata": {},
     "output_type": "execute_result"
    }
   ],
   "source": [
    "import bitarray as bitarray\n",
    "import tensorflow as tf\n",
    "import tensorflow_hub as hub\n",
    "\n",
    "tf.__version__ , hub.__version__"
   ],
   "metadata": {
    "collapsed": false
   }
  },
  {
   "cell_type": "markdown",
   "source": [
    "## 2. Data exploration / preprocessing\n",
    "\n",
    "Now we'll prepare the data for the model. We'll do the following:\n",
    "- Load images paths from the data folder\n",
    "- Load labels from the data/Data_Entry_2017.csv file and other features\n",
    "- One-hot encode labels\n",
    "- Remove nan values if any and remove unused columns\n",
    "- Split data into train and test sets\n",
    "- Create tf.data.Dataset from train and test sets"
   ],
   "metadata": {
    "collapsed": false
   }
  },
  {
   "cell_type": "code",
   "execution_count": 54,
   "outputs": [
    {
     "data": {
      "text/plain": "                                image_path          filename\n0  data/images_006/images/00011723_001.png  00011723_001.png\n1  data/images_006/images/00013648_003.png  00013648_003.png\n2  data/images_006/images/00011945_002.png  00011945_002.png\n3  data/images_006/images/00012342_003.png  00012342_003.png\n4  data/images_006/images/00011955_002.png  00011955_002.png",
      "text/html": "<div>\n<style scoped>\n    .dataframe tbody tr th:only-of-type {\n        vertical-align: middle;\n    }\n\n    .dataframe tbody tr th {\n        vertical-align: top;\n    }\n\n    .dataframe thead th {\n        text-align: right;\n    }\n</style>\n<table border=\"1\" class=\"dataframe\">\n  <thead>\n    <tr style=\"text-align: right;\">\n      <th></th>\n      <th>image_path</th>\n      <th>filename</th>\n    </tr>\n  </thead>\n  <tbody>\n    <tr>\n      <th>0</th>\n      <td>data/images_006/images/00011723_001.png</td>\n      <td>00011723_001.png</td>\n    </tr>\n    <tr>\n      <th>1</th>\n      <td>data/images_006/images/00013648_003.png</td>\n      <td>00013648_003.png</td>\n    </tr>\n    <tr>\n      <th>2</th>\n      <td>data/images_006/images/00011945_002.png</td>\n      <td>00011945_002.png</td>\n    </tr>\n    <tr>\n      <th>3</th>\n      <td>data/images_006/images/00012342_003.png</td>\n      <td>00012342_003.png</td>\n    </tr>\n    <tr>\n      <th>4</th>\n      <td>data/images_006/images/00011955_002.png</td>\n      <td>00011955_002.png</td>\n    </tr>\n  </tbody>\n</table>\n</div>"
     },
     "execution_count": 54,
     "metadata": {},
     "output_type": "execute_result"
    }
   ],
   "source": [
    "# Dataset was downloaded from https://www.kaggle.com/datasets/nih-chest-xrays/data and extracted to the data folder\n",
    "import logging\n",
    "logging.getLogger('tensorflow').setLevel(logging.ERROR)\n",
    "\n",
    "# Pandas table of all images (*.png) paths from the data folder\n",
    "import pandas as pd\n",
    "import glob\n",
    "\n",
    "image_paths = glob.glob(\"data/images_*/images/*.png\")\n",
    "data = pd.DataFrame(image_paths, columns=[\"image_path\"])\n",
    "# Add column with filename\n",
    "data[\"filename\"] = data[\"image_path\"].apply(lambda x: x.split(\"/\")[-1])\n",
    "data.head()"
   ],
   "metadata": {
    "collapsed": false
   }
  },
  {
   "cell_type": "code",
   "execution_count": 55,
   "outputs": [],
   "source": [
    "# Concatenation image_paths with data/Data_Entry_2017.csv where filename is the same as column \"Filename\"\n",
    "data_entry = pd.read_csv(\"data/Data_Entry_2017.csv\")"
   ],
   "metadata": {
    "collapsed": false
   }
  },
  {
   "cell_type": "code",
   "execution_count": 56,
   "outputs": [
    {
     "name": "stdout",
     "output_type": "stream",
     "text": [
      "Images count matches data entries! :)\n"
     ]
    }
   ],
   "source": [
    "# row count compare of data and data_entry\n",
    "print(\"Images count matches data entries! :)\") if data.shape[0] == data_entry.shape[0] else print(\"Images count doesn't match data entries! :(\")"
   ],
   "metadata": {
    "collapsed": false
   }
  },
  {
   "cell_type": "code",
   "execution_count": 57,
   "outputs": [],
   "source": [
    "data = pd.merge(data, data_entry, left_on=\"filename\", right_on=\"Image Index\")\n",
    "data.drop(columns=[\"filename\", \"Image Index\", \"OriginalImage[Width\", \"Height]\", \"OriginalImagePixelSpacing[x\", \"y]\", \"Unnamed: 11\"], inplace=True)"
   ],
   "metadata": {
    "collapsed": false
   }
  },
  {
   "cell_type": "code",
   "execution_count": 58,
   "outputs": [
    {
     "name": "stdout",
     "output_type": "stream",
     "text": [
      "<class 'pandas.core.frame.DataFrame'>\n",
      "Int64Index: 112120 entries, 0 to 112119\n",
      "Data columns (total 7 columns):\n",
      " #   Column          Non-Null Count   Dtype \n",
      "---  ------          --------------   ----- \n",
      " 0   image_path      112120 non-null  object\n",
      " 1   Finding Labels  112120 non-null  object\n",
      " 2   Follow-up #     112120 non-null  int64 \n",
      " 3   Patient ID      112120 non-null  int64 \n",
      " 4   Patient Age     112120 non-null  int64 \n",
      " 5   Patient Gender  112120 non-null  object\n",
      " 6   View Position   112120 non-null  object\n",
      "dtypes: int64(3), object(4)\n",
      "memory usage: 6.8+ MB\n"
     ]
    }
   ],
   "source": [
    "data.info()"
   ],
   "metadata": {
    "collapsed": false
   }
  },
  {
   "cell_type": "code",
   "execution_count": 59,
   "outputs": [],
   "source": [
    " # Clear nan \"Finding Labels\"\n",
    "data.dropna(subset=[\"Finding Labels\"], inplace=True)\n"
   ],
   "metadata": {
    "collapsed": false
   }
  },
  {
   "cell_type": "code",
   "execution_count": 60,
   "outputs": [
    {
     "data": {
      "text/plain": "         Follow-up #     Patient ID    Patient Age\ncount  112120.000000  112120.000000  112120.000000\nmean        8.573751   14346.381743      46.901463\nstd        15.406320    8403.876972      16.839923\nmin         0.000000       1.000000       1.000000\n25%         0.000000    7310.750000      35.000000\n50%         3.000000   13993.000000      49.000000\n75%        10.000000   20673.000000      59.000000\nmax       183.000000   30805.000000     414.000000",
      "text/html": "<div>\n<style scoped>\n    .dataframe tbody tr th:only-of-type {\n        vertical-align: middle;\n    }\n\n    .dataframe tbody tr th {\n        vertical-align: top;\n    }\n\n    .dataframe thead th {\n        text-align: right;\n    }\n</style>\n<table border=\"1\" class=\"dataframe\">\n  <thead>\n    <tr style=\"text-align: right;\">\n      <th></th>\n      <th>Follow-up #</th>\n      <th>Patient ID</th>\n      <th>Patient Age</th>\n    </tr>\n  </thead>\n  <tbody>\n    <tr>\n      <th>count</th>\n      <td>112120.000000</td>\n      <td>112120.000000</td>\n      <td>112120.000000</td>\n    </tr>\n    <tr>\n      <th>mean</th>\n      <td>8.573751</td>\n      <td>14346.381743</td>\n      <td>46.901463</td>\n    </tr>\n    <tr>\n      <th>std</th>\n      <td>15.406320</td>\n      <td>8403.876972</td>\n      <td>16.839923</td>\n    </tr>\n    <tr>\n      <th>min</th>\n      <td>0.000000</td>\n      <td>1.000000</td>\n      <td>1.000000</td>\n    </tr>\n    <tr>\n      <th>25%</th>\n      <td>0.000000</td>\n      <td>7310.750000</td>\n      <td>35.000000</td>\n    </tr>\n    <tr>\n      <th>50%</th>\n      <td>3.000000</td>\n      <td>13993.000000</td>\n      <td>49.000000</td>\n    </tr>\n    <tr>\n      <th>75%</th>\n      <td>10.000000</td>\n      <td>20673.000000</td>\n      <td>59.000000</td>\n    </tr>\n    <tr>\n      <th>max</th>\n      <td>183.000000</td>\n      <td>30805.000000</td>\n      <td>414.000000</td>\n    </tr>\n  </tbody>\n</table>\n</div>"
     },
     "execution_count": 60,
     "metadata": {},
     "output_type": "execute_result"
    }
   ],
   "source": [
    "data.describe()"
   ],
   "metadata": {
    "collapsed": false
   }
  },
  {
   "cell_type": "code",
   "execution_count": 61,
   "outputs": [],
   "source": [
    "import bitarray\n",
    "import numpy as np\n",
    "# Generate one-hot encoded column \"Patient Gender\" and \"View Position\" and change their type to int\n",
    "new_data = pd.DataFrame()\n",
    "data[\"Patient is F\"] = data[\"Patient Gender\"].apply(lambda x: 1 if x == \"F\" else 0).astype(\"bool\")\n",
    "data[\"Position is AP\"] = data[\"View Position\"].apply(lambda x: 1 if x == \"AP\" else 0).astype(\"bool\")\n",
    "\n",
    "# data[\"Patient Gender\"] = data[\"Patient Gender\"].apply(lambda x: 1 if x == \"F\" else 0)\n",
    "#"
   ],
   "metadata": {
    "collapsed": false
   }
  },
  {
   "cell_type": "code",
   "execution_count": 62,
   "outputs": [
    {
     "name": "stdout",
     "output_type": "stream",
     "text": [
      "<class 'pandas.core.frame.DataFrame'>\n",
      "Int64Index: 112120 entries, 0 to 112119\n",
      "Data columns (total 9 columns):\n",
      " #   Column          Non-Null Count   Dtype \n",
      "---  ------          --------------   ----- \n",
      " 0   image_path      112120 non-null  object\n",
      " 1   Finding Labels  112120 non-null  object\n",
      " 2   Follow-up #     112120 non-null  int64 \n",
      " 3   Patient ID      112120 non-null  int64 \n",
      " 4   Patient Age     112120 non-null  int64 \n",
      " 5   Patient Gender  112120 non-null  object\n",
      " 6   View Position   112120 non-null  object\n",
      " 7   Patient is F    112120 non-null  bool  \n",
      " 8   Position is AP  112120 non-null  bool  \n",
      "dtypes: bool(2), int64(3), object(4)\n",
      "memory usage: 7.1+ MB\n"
     ]
    }
   ],
   "source": [
    "data.info()"
   ],
   "metadata": {
    "collapsed": false
   }
  },
  {
   "cell_type": "code",
   "execution_count": 63,
   "outputs": [
    {
     "data": {
      "text/plain": "0         11722\n1         13647\n2         11944\n3         12341\n4         11954\n          ...  \n112115    25786\n112116    26431\n112117    25453\n112118    27854\n112119    25757\nLength: 112120, dtype: int16"
     },
     "execution_count": 63,
     "metadata": {},
     "output_type": "execute_result"
    }
   ],
   "source": [
    "# Get \"Patient ID\" category codes\n",
    "data[\"Patient ID\"].astype(\"category\").cat.codes"
   ],
   "metadata": {
    "collapsed": false
   }
  },
  {
   "cell_type": "code",
   "execution_count": 64,
   "outputs": [],
   "source": [
    "\n",
    "# Define the class labels in a sorted set\n",
    "unique_diseases = [\"Atelectasis\", \"Consolidation\", \"Infiltration\", \"Pneumothorax\", \"Edema\", \"Emphysema\", \"Fibrosis\", \"Effusion\", \"Pneumonia\", \"Pleural_Thickening\", \"Cardiomegaly\", \"Nodule\", \"Mass\", \"Hernia\"]\n",
    "\n",
    "d = {label: ix for ix, label in enumerate(unique_diseases)}\n",
    "\n",
    "# Column \"Finding Labels\" contains multiple label names separated by \"|\". \"No Finding\" means no disease.\n",
    "# Define a function to convert \"Finding Labels\" to one-hot encoded in one hot encoded vector stored in \"Disease Vector\". \"No Finding\" is encoded as all zeros.\n",
    "def convert_labels_to_vector(labels):\n",
    "    # split labels by \"|\"\n",
    "    labels = labels.split(\"|\")\n",
    "    # create a bitarray full of False with length of unique_diseases\n",
    "    vector = bitarray.bitarray('0'*14)\n",
    "    # if \"No Finding\" in labels, return vector\n",
    "    if \"No Finding\" in labels:\n",
    "        return vector\n",
    "    # for each label in labels, set the corresponding index in vector to 1\n",
    "    for label in labels:\n",
    "        vector[d[label]] = 1\n",
    "\n",
    "    return vector\n",
    "\n",
    "# Apply convert_labels_to_vector to \"Finding Labels\" column and store in \"Disease Vector\" column\n",
    "data[\"Disease Vector\"] = data[\"Finding Labels\"].apply(convert_labels_to_vector)"
   ],
   "metadata": {
    "collapsed": false
   }
  },
  {
   "cell_type": "code",
   "execution_count": 65,
   "outputs": [
    {
     "data": {
      "text/plain": "0    [1, 0, 1, 0, 0, 0, 0, 0, 0, 0, 0, 0, 0, 0]\n1    [0, 0, 0, 0, 0, 0, 0, 0, 0, 0, 0, 0, 0, 0]\n2    [0, 0, 0, 0, 0, 0, 0, 0, 0, 0, 0, 0, 0, 0]\n3    [0, 0, 0, 0, 0, 0, 0, 0, 0, 0, 0, 0, 1, 0]\n4    [0, 0, 1, 0, 0, 0, 0, 1, 0, 0, 0, 0, 0, 0]\nName: Disease Vector, dtype: object"
     },
     "execution_count": 65,
     "metadata": {},
     "output_type": "execute_result"
    }
   ],
   "source": [
    "data[\"Disease Vector\"].head()"
   ],
   "metadata": {
    "collapsed": false
   }
  },
  {
   "cell_type": "code",
   "execution_count": 66,
   "outputs": [
    {
     "data": {
      "text/plain": "image_path        0\nFinding Labels    0\nFollow-up #       0\nPatient ID        0\nPatient Age       0\nPatient Gender    0\nView Position     0\nPatient is F      0\nPosition is AP    0\nDisease Vector    0\ndtype: int64"
     },
     "execution_count": 66,
     "metadata": {},
     "output_type": "execute_result"
    }
   ],
   "source": [
    "# Nan values per column\n",
    "data.isna().sum()"
   ],
   "metadata": {
    "collapsed": false
   }
  },
  {
   "cell_type": "code",
   "execution_count": 67,
   "outputs": [
    {
     "data": {
      "text/plain": "[['Atelectasis', 'Infiltration'],\n ['No Finding'],\n ['No Finding'],\n ['Mass'],\n ['Infiltration', 'Effusion']]"
     },
     "execution_count": 67,
     "metadata": {},
     "output_type": "execute_result"
    }
   ],
   "source": [
    "# How many images are there in each class?\n",
    "def decode_vector(vector):\n",
    "    # return list with 'No Finding' if vector is all zeros or empty or None, else return list of diseases in vector\n",
    "    if not any(vector):\n",
    "        return [\"No Finding\"]\n",
    "    else:\n",
    "        return [unique_diseases[i] for i, x in enumerate(vector) if x == True]\n",
    "\n",
    "[decode_vector(v) for v in data[\"Disease Vector\"].head()]"
   ],
   "metadata": {
    "collapsed": false
   }
  },
  {
   "cell_type": "code",
   "execution_count": 68,
   "outputs": [
    {
     "data": {
      "text/plain": "<Figure size 1000x500 with 1 Axes>",
      "image/png": "[encoded data removed]"
     },
     "metadata": {},
     "output_type": "display_data"
    }
   ],
   "source": [
    "sum = np.zeros(14)\n",
    "\n",
    "for vector in data[\"Disease Vector\"]:\n",
    "    sum += vector.tolist()\n",
    "\n",
    "srt = sorted(enumerate(sum), key=lambda x: x[1], reverse=True)\n",
    "\n",
    "# bar plot x vs y\n",
    "import matplotlib.pyplot as plt\n",
    "import seaborn as sns\n",
    "\n",
    "plt.figure(figsize=(10, 5))\n",
    "sns.barplot(x=[unique_diseases[i] for i, _ in srt], y=[i for _, i in srt])\n",
    "plt.xticks(rotation=90)\n",
    "plt.show()"
   ],
   "metadata": {
    "collapsed": false
   }
  },
  {
   "cell_type": "code",
   "execution_count": 69,
   "outputs": [],
   "source": [
    "all_sorted_cnt = data[\"Disease Vector\"].value_counts()"
   ],
   "metadata": {
    "collapsed": false
   }
  },
  {
   "cell_type": "code",
   "execution_count": 70,
   "outputs": [],
   "source": [
    "IMAGE_COUNT = 500\n",
    "\n",
    "# Define a function get list of diseases in vectors that have count more than img_count\n",
    "def get_diseases_with_count_more_than(img_count=IMAGE_COUNT, max_class_count=1):\n",
    "    return [v for v, count in all_sorted_cnt.items() if count >= img_count and np.sum(v.tolist()) <= max_class_count]\n",
    "\n",
    "def get_diseases_with_count_less_than(img_count=IMAGE_COUNT, max_class_count=1):\n",
    "    return [v for v, count in all_sorted_cnt.items() if count < img_count and np.sum(v.tolist()) <= max_class_count]\n",
    "\n",
    "majority_classes = get_diseases_with_count_more_than(img_count=IMAGE_COUNT)\n",
    "minority_classes = get_diseases_with_count_less_than(img_count=IMAGE_COUNT)"
   ],
   "metadata": {
    "collapsed": false
   }
  },
  {
   "cell_type": "code",
   "execution_count": 71,
   "outputs": [],
   "source": [
    "majority_data = data[data['Disease Vector'].isin(majority_classes)]\n",
    "minority_data = data[data['Disease Vector'].isin(minority_classes)]"
   ],
   "metadata": {
    "collapsed": false
   }
  },
  {
   "cell_type": "code",
   "execution_count": 72,
   "outputs": [
    {
     "data": {
      "text/plain": "(90892, 432)"
     },
     "execution_count": 72,
     "metadata": {},
     "output_type": "execute_result"
    }
   ],
   "source": [
    "len(majority_data), len(minority_data)"
   ],
   "metadata": {
    "collapsed": false
   }
  },
  {
   "cell_type": "code",
   "execution_count": 73,
   "outputs": [],
   "source": [
    "import tensorflow as tf\n",
    "from sklearn.utils import resample\n",
    "\n",
    "# Set the class threshold to 1000\n",
    "# Resample the minority classes\n",
    "balanced_data = pd.DataFrame()\n",
    "for vector in minority_classes:\n",
    "    # Get the data for the current class\n",
    "    class_data = minority_data[minority_data['Disease Vector'] == vector]\n",
    "    # Resample the data\n",
    "    resampled_class_data = resample(class_data, replace=True, n_samples=IMAGE_COUNT, random_state=42)\n",
    "    # Append the resampled data to the resampled minority data\n",
    "    balanced_data = pd.concat([balanced_data, resampled_class_data])\n",
    "\n",
    "# Sample the majority classes\n",
    "for vector in majority_classes:\n",
    "    # Get the data for the current class\n",
    "    class_data = majority_data[majority_data['Disease Vector'] == vector]\n",
    "    # Sample the data\n",
    "    sampled_class_data = class_data.sample(n=IMAGE_COUNT, random_state=42)\n",
    "    # Append the sampled data to the resampled minority data\n",
    "    balanced_data = pd.concat([balanced_data, sampled_class_data])\n",
    "\n",
    "# Shuffle the data\n",
    "balanced_data = balanced_data.sample(frac=1, random_state=42)\n",
    "\n",
    "unique_vectors, counts = np.unique(data[\"Disease Vector\"].values, return_counts=True)"
   ],
   "metadata": {
    "collapsed": false
   }
  },
  {
   "cell_type": "code",
   "execution_count": 74,
   "outputs": [
    {
     "data": {
      "text/plain": "                                    image_path Finding Labels  Follow-up #  \\\n10106  data/images_001/images/00000385_001.png         Hernia            1   \n97548  data/images_010/images/00021127_016.png      Emphysema           16   \n46672  data/images_012/images/00030637_023.png   Infiltration           23   \n40267  data/images_007/images/00014849_000.png       Fibrosis            0   \n45097  data/images_012/images/00028317_013.png      Emphysema           13   \n\n       Patient ID  Patient Age Patient Gender View Position  Patient is F  \\\n10106         385           71              F            PA          True   \n97548       21127           64              M            PA         False   \n46672       30637           49              M            PA         False   \n40267       14849           57              M            PA         False   \n45097       28317           53              M            AP         False   \n\n       Position is AP                              Disease Vector  \n10106           False  [0, 0, 0, 0, 0, 0, 0, 0, 0, 0, 0, 0, 0, 1]  \n97548           False  [0, 0, 0, 0, 0, 1, 0, 0, 0, 0, 0, 0, 0, 0]  \n46672           False  [0, 0, 1, 0, 0, 0, 0, 0, 0, 0, 0, 0, 0, 0]  \n40267           False  [0, 0, 0, 0, 0, 0, 1, 0, 0, 0, 0, 0, 0, 0]  \n45097            True  [0, 0, 0, 0, 0, 1, 0, 0, 0, 0, 0, 0, 0, 0]  ",
      "text/html": "<div>\n<style scoped>\n    .dataframe tbody tr th:only-of-type {\n        vertical-align: middle;\n    }\n\n    .dataframe tbody tr th {\n        vertical-align: top;\n    }\n\n    .dataframe thead th {\n        text-align: right;\n    }\n</style>\n<table border=\"1\" class=\"dataframe\">\n  <thead>\n    <tr style=\"text-align: right;\">\n      <th></th>\n      <th>image_path</th>\n      <th>Finding Labels</th>\n      <th>Follow-up #</th>\n      <th>Patient ID</th>\n      <th>Patient Age</th>\n      <th>Patient Gender</th>\n      <th>View Position</th>\n      <th>Patient is F</th>\n      <th>Position is AP</th>\n      <th>Disease Vector</th>\n    </tr>\n  </thead>\n  <tbody>\n    <tr>\n      <th>10106</th>\n      <td>data/images_001/images/00000385_001.png</td>\n      <td>Hernia</td>\n      <td>1</td>\n      <td>385</td>\n      <td>71</td>\n      <td>F</td>\n      <td>PA</td>\n      <td>True</td>\n      <td>False</td>\n      <td>[0, 0, 0, 0, 0, 0, 0, 0, 0, 0, 0, 0, 0, 1]</td>\n    </tr>\n    <tr>\n      <th>97548</th>\n      <td>data/images_010/images/00021127_016.png</td>\n      <td>Emphysema</td>\n      <td>16</td>\n      <td>21127</td>\n      <td>64</td>\n      <td>M</td>\n      <td>PA</td>\n      <td>False</td>\n      <td>False</td>\n      <td>[0, 0, 0, 0, 0, 1, 0, 0, 0, 0, 0, 0, 0, 0]</td>\n    </tr>\n    <tr>\n      <th>46672</th>\n      <td>data/images_012/images/00030637_023.png</td>\n      <td>Infiltration</td>\n      <td>23</td>\n      <td>30637</td>\n      <td>49</td>\n      <td>M</td>\n      <td>PA</td>\n      <td>False</td>\n      <td>False</td>\n      <td>[0, 0, 1, 0, 0, 0, 0, 0, 0, 0, 0, 0, 0, 0]</td>\n    </tr>\n    <tr>\n      <th>40267</th>\n      <td>data/images_007/images/00014849_000.png</td>\n      <td>Fibrosis</td>\n      <td>0</td>\n      <td>14849</td>\n      <td>57</td>\n      <td>M</td>\n      <td>PA</td>\n      <td>False</td>\n      <td>False</td>\n      <td>[0, 0, 0, 0, 0, 0, 1, 0, 0, 0, 0, 0, 0, 0]</td>\n    </tr>\n    <tr>\n      <th>45097</th>\n      <td>data/images_012/images/00028317_013.png</td>\n      <td>Emphysema</td>\n      <td>13</td>\n      <td>28317</td>\n      <td>53</td>\n      <td>M</td>\n      <td>AP</td>\n      <td>False</td>\n      <td>True</td>\n      <td>[0, 0, 0, 0, 0, 1, 0, 0, 0, 0, 0, 0, 0, 0]</td>\n    </tr>\n  </tbody>\n</table>\n</div>"
     },
     "execution_count": 74,
     "metadata": {},
     "output_type": "execute_result"
    }
   ],
   "source": [
    "balanced_data.head()"
   ],
   "metadata": {
    "collapsed": false
   }
  },
  {
   "cell_type": "code",
   "execution_count": 75,
   "outputs": [
    {
     "name": "stdout",
     "output_type": "stream",
     "text": [
      "['No Finding'] 500\n",
      "['Hernia'] 500\n",
      "['Mass'] 500\n",
      "['Nodule'] 500\n",
      "['Cardiomegaly'] 500\n",
      "['Pleural_Thickening'] 500\n",
      "['Pneumonia'] 500\n",
      "['Effusion'] 500\n",
      "['Fibrosis'] 500\n",
      "['Emphysema'] 500\n",
      "['Edema'] 500\n",
      "['Pneumothorax'] 500\n",
      "['Infiltration'] 500\n",
      "['Consolidation'] 500\n",
      "['Atelectasis'] 500\n"
     ]
    }
   ],
   "source": [
    "vector, counts = np.unique(balanced_data[\"Disease Vector\"].values, return_counts=True)\n",
    "for v, cnt in sorted(zip(vector, counts), key=lambda x: x[1], reverse=True):\n",
    "    print(decode_vector(v), cnt)"
   ],
   "metadata": {
    "collapsed": false
   }
  },
  {
   "cell_type": "code",
   "execution_count": 76,
   "outputs": [
    {
     "name": "stdout",
     "output_type": "stream",
     "text": [
      "<class 'pandas.core.frame.DataFrame'>\n",
      "Int64Index: 7500 entries, 10106 to 63137\n",
      "Data columns (total 10 columns):\n",
      " #   Column          Non-Null Count  Dtype \n",
      "---  ------          --------------  ----- \n",
      " 0   image_path      7500 non-null   object\n",
      " 1   Finding Labels  7500 non-null   object\n",
      " 2   Follow-up #     7500 non-null   int64 \n",
      " 3   Patient ID      7500 non-null   int64 \n",
      " 4   Patient Age     7500 non-null   int64 \n",
      " 5   Patient Gender  7500 non-null   object\n",
      " 6   View Position   7500 non-null   object\n",
      " 7   Patient is F    7500 non-null   bool  \n",
      " 8   Position is AP  7500 non-null   bool  \n",
      " 9   Disease Vector  7500 non-null   object\n",
      "dtypes: bool(2), int64(3), object(5)\n",
      "memory usage: 542.0+ KB\n"
     ]
    }
   ],
   "source": [
    "balanced_data.info()"
   ],
   "metadata": {
    "collapsed": false
   }
  },
  {
   "cell_type": "code",
   "execution_count": 77,
   "outputs": [
    {
     "name": "stdout",
     "output_type": "stream",
     "text": [
      "<class 'pandas.core.frame.DataFrame'>\n",
      "Int64Index: 7500 entries, 10106 to 63137\n",
      "Data columns (total 10 columns):\n",
      " #   Column          Non-Null Count  Dtype \n",
      "---  ------          --------------  ----- \n",
      " 0   image_path      7500 non-null   object\n",
      " 1   Finding Labels  7500 non-null   object\n",
      " 2   Follow-up #     7500 non-null   int64 \n",
      " 3   Patient ID      7500 non-null   int64 \n",
      " 4   Patient Age     7500 non-null   int64 \n",
      " 5   Patient Gender  7500 non-null   object\n",
      " 6   View Position   7500 non-null   object\n",
      " 7   Patient is F    7500 non-null   bool  \n",
      " 8   Position is AP  7500 non-null   bool  \n",
      " 9   Disease Vector  7500 non-null   object\n",
      "dtypes: bool(2), int64(3), object(5)\n",
      "memory usage: 542.0+ KB\n"
     ]
    }
   ],
   "source": [
    "balanced_data.info()"
   ],
   "metadata": {
    "collapsed": false
   }
  },
  {
   "cell_type": "code",
   "execution_count": 78,
   "outputs": [],
   "source": [
    "# From balanaced_data select 'image_path', 'Follow-up #', 'Patient ID', 'Patient Age', 'Patient is F', 'Position is AP' and 'Disease Vector' columns\n",
    "\n",
    "selected_data = balanced_data[['image_path', 'Follow-up #', 'Patient ID', 'Patient Age', 'Patient is F', 'Position is AP', 'Disease Vector']].copy()"
   ],
   "metadata": {
    "collapsed": false
   }
  },
  {
   "cell_type": "code",
   "execution_count": 79,
   "outputs": [],
   "source": [
    "# standardize the data except the image_path column\n",
    "from sklearn.preprocessing import StandardScaler\n",
    "\n",
    "scaler = StandardScaler()\n",
    "selected_data.iloc[:, 1:6] = scaler.fit_transform(selected_data.iloc[:, 1:6])"
   ],
   "metadata": {
    "collapsed": false
   }
  },
  {
   "cell_type": "code",
   "execution_count": 80,
   "outputs": [
    {
     "name": "stdout",
     "output_type": "stream",
     "text": [
      "<class 'pandas.core.frame.DataFrame'>\n",
      "Int64Index: 7500 entries, 10106 to 63137\n",
      "Data columns (total 7 columns):\n",
      " #   Column          Non-Null Count  Dtype  \n",
      "---  ------          --------------  -----  \n",
      " 0   image_path      7500 non-null   object \n",
      " 1   Follow-up #     7500 non-null   float64\n",
      " 2   Patient ID      7500 non-null   float64\n",
      " 3   Patient Age     7500 non-null   float64\n",
      " 4   Patient is F    7500 non-null   float64\n",
      " 5   Position is AP  7500 non-null   float64\n",
      " 6   Disease Vector  7500 non-null   object \n",
      "dtypes: float64(5), object(2)\n",
      "memory usage: 468.8+ KB\n"
     ]
    }
   ],
   "source": [
    "selected_data.info()"
   ],
   "metadata": {
    "collapsed": false
   }
  },
  {
   "cell_type": "code",
   "execution_count": 81,
   "outputs": [
    {
     "data": {
      "text/plain": "                                    image_path  Follow-up #  Patient ID  \\\n10106  data/images_001/images/00000385_001.png    -0.511448   -1.603785   \n97548  data/images_010/images/00021127_016.png     0.402432    0.871033   \n46672  data/images_012/images/00030637_023.png     0.828910    2.005712   \n40267  data/images_007/images/00014849_000.png    -0.572374    0.121978   \n45097  data/images_012/images/00028317_013.png     0.219656    1.728903   \n\n       Patient Age  Patient is F  Position is AP  \\\n10106     1.270220      1.110917        -0.81491   \n97548     0.870444     -0.900157        -0.81491   \n46672     0.013783     -0.900157        -0.81491   \n40267     0.470669     -0.900157        -0.81491   \n45097     0.242226     -0.900157         1.22713   \n\n                                   Disease Vector  \n10106  [0, 0, 0, 0, 0, 0, 0, 0, 0, 0, 0, 0, 0, 1]  \n97548  [0, 0, 0, 0, 0, 1, 0, 0, 0, 0, 0, 0, 0, 0]  \n46672  [0, 0, 1, 0, 0, 0, 0, 0, 0, 0, 0, 0, 0, 0]  \n40267  [0, 0, 0, 0, 0, 0, 1, 0, 0, 0, 0, 0, 0, 0]  \n45097  [0, 0, 0, 0, 0, 1, 0, 0, 0, 0, 0, 0, 0, 0]  ",
      "text/html": "<div>\n<style scoped>\n    .dataframe tbody tr th:only-of-type {\n        vertical-align: middle;\n    }\n\n    .dataframe tbody tr th {\n        vertical-align: top;\n    }\n\n    .dataframe thead th {\n        text-align: right;\n    }\n</style>\n<table border=\"1\" class=\"dataframe\">\n  <thead>\n    <tr style=\"text-align: right;\">\n      <th></th>\n      <th>image_path</th>\n      <th>Follow-up #</th>\n      <th>Patient ID</th>\n      <th>Patient Age</th>\n      <th>Patient is F</th>\n      <th>Position is AP</th>\n      <th>Disease Vector</th>\n    </tr>\n  </thead>\n  <tbody>\n    <tr>\n      <th>10106</th>\n      <td>data/images_001/images/00000385_001.png</td>\n      <td>-0.511448</td>\n      <td>-1.603785</td>\n      <td>1.270220</td>\n      <td>1.110917</td>\n      <td>-0.81491</td>\n      <td>[0, 0, 0, 0, 0, 0, 0, 0, 0, 0, 0, 0, 0, 1]</td>\n    </tr>\n    <tr>\n      <th>97548</th>\n      <td>data/images_010/images/00021127_016.png</td>\n      <td>0.402432</td>\n      <td>0.871033</td>\n      <td>0.870444</td>\n      <td>-0.900157</td>\n      <td>-0.81491</td>\n      <td>[0, 0, 0, 0, 0, 1, 0, 0, 0, 0, 0, 0, 0, 0]</td>\n    </tr>\n    <tr>\n      <th>46672</th>\n      <td>data/images_012/images/00030637_023.png</td>\n      <td>0.828910</td>\n      <td>2.005712</td>\n      <td>0.013783</td>\n      <td>-0.900157</td>\n      <td>-0.81491</td>\n      <td>[0, 0, 1, 0, 0, 0, 0, 0, 0, 0, 0, 0, 0, 0]</td>\n    </tr>\n    <tr>\n      <th>40267</th>\n      <td>data/images_007/images/00014849_000.png</td>\n      <td>-0.572374</td>\n      <td>0.121978</td>\n      <td>0.470669</td>\n      <td>-0.900157</td>\n      <td>-0.81491</td>\n      <td>[0, 0, 0, 0, 0, 0, 1, 0, 0, 0, 0, 0, 0, 0]</td>\n    </tr>\n    <tr>\n      <th>45097</th>\n      <td>data/images_012/images/00028317_013.png</td>\n      <td>0.219656</td>\n      <td>1.728903</td>\n      <td>0.242226</td>\n      <td>-0.900157</td>\n      <td>1.22713</td>\n      <td>[0, 0, 0, 0, 0, 1, 0, 0, 0, 0, 0, 0, 0, 0]</td>\n    </tr>\n  </tbody>\n</table>\n</div>"
     },
     "execution_count": 81,
     "metadata": {},
     "output_type": "execute_result"
    }
   ],
   "source": [
    "selected_data.head()"
   ],
   "metadata": {
    "collapsed": false
   }
  },
  {
   "cell_type": "code",
   "execution_count": 82,
   "outputs": [],
   "source": [
    "# Split data into train and test sets\n",
    "\n",
    "X = selected_data.iloc[:, 0:6]\n",
    "y = selected_data.iloc[:, 6].map(lambda x: np.array(x.tolist(), dtype=np.float32))"
   ],
   "metadata": {
    "collapsed": false
   }
  },
  {
   "cell_type": "code",
   "execution_count": 83,
   "outputs": [
    {
     "data": {
      "text/plain": "                                    image_path  Follow-up #  Patient ID  \\\n10106  data/images_001/images/00000385_001.png    -0.511448   -1.603785   \n97548  data/images_010/images/00021127_016.png     0.402432    0.871033   \n46672  data/images_012/images/00030637_023.png     0.828910    2.005712   \n40267  data/images_007/images/00014849_000.png    -0.572374    0.121978   \n45097  data/images_012/images/00028317_013.png     0.219656    1.728903   \n\n       Patient Age  Patient is F  Position is AP  \n10106     1.270220      1.110917        -0.81491  \n97548     0.870444     -0.900157        -0.81491  \n46672     0.013783     -0.900157        -0.81491  \n40267     0.470669     -0.900157        -0.81491  \n45097     0.242226     -0.900157         1.22713  ",
      "text/html": "<div>\n<style scoped>\n    .dataframe tbody tr th:only-of-type {\n        vertical-align: middle;\n    }\n\n    .dataframe tbody tr th {\n        vertical-align: top;\n    }\n\n    .dataframe thead th {\n        text-align: right;\n    }\n</style>\n<table border=\"1\" class=\"dataframe\">\n  <thead>\n    <tr style=\"text-align: right;\">\n      <th></th>\n      <th>image_path</th>\n      <th>Follow-up #</th>\n      <th>Patient ID</th>\n      <th>Patient Age</th>\n      <th>Patient is F</th>\n      <th>Position is AP</th>\n    </tr>\n  </thead>\n  <tbody>\n    <tr>\n      <th>10106</th>\n      <td>data/images_001/images/00000385_001.png</td>\n      <td>-0.511448</td>\n      <td>-1.603785</td>\n      <td>1.270220</td>\n      <td>1.110917</td>\n      <td>-0.81491</td>\n    </tr>\n    <tr>\n      <th>97548</th>\n      <td>data/images_010/images/00021127_016.png</td>\n      <td>0.402432</td>\n      <td>0.871033</td>\n      <td>0.870444</td>\n      <td>-0.900157</td>\n      <td>-0.81491</td>\n    </tr>\n    <tr>\n      <th>46672</th>\n      <td>data/images_012/images/00030637_023.png</td>\n      <td>0.828910</td>\n      <td>2.005712</td>\n      <td>0.013783</td>\n      <td>-0.900157</td>\n      <td>-0.81491</td>\n    </tr>\n    <tr>\n      <th>40267</th>\n      <td>data/images_007/images/00014849_000.png</td>\n      <td>-0.572374</td>\n      <td>0.121978</td>\n      <td>0.470669</td>\n      <td>-0.900157</td>\n      <td>-0.81491</td>\n    </tr>\n    <tr>\n      <th>45097</th>\n      <td>data/images_012/images/00028317_013.png</td>\n      <td>0.219656</td>\n      <td>1.728903</td>\n      <td>0.242226</td>\n      <td>-0.900157</td>\n      <td>1.22713</td>\n    </tr>\n  </tbody>\n</table>\n</div>"
     },
     "execution_count": 83,
     "metadata": {},
     "output_type": "execute_result"
    }
   ],
   "source": [
    "X.head()"
   ],
   "metadata": {
    "collapsed": false
   }
  },
  {
   "cell_type": "code",
   "execution_count": 84,
   "outputs": [
    {
     "data": {
      "text/plain": "<Figure size 1400x1000 with 2 Axes>",
      "image/png": "[encoded data removed]"
     },
     "metadata": {},
     "output_type": "display_data"
    }
   ],
   "source": [
    "# Correlation matrix of image_paths\n",
    "\n",
    "plt.figure(figsize=(14, 10))\n",
    "sns.heatmap(data.iloc[:, 1:].corr(numeric_only=True),\n",
    "            annot=True,\n",
    "            fmt=\".2f\",\n",
    "            cmap=\"coolwarm\")\n",
    "plt.show();"
   ],
   "metadata": {
    "collapsed": false
   }
  },
  {
   "cell_type": "code",
   "execution_count": 85,
   "outputs": [],
   "source": [
    "X = X.iloc[:, 0]"
   ],
   "metadata": {
    "collapsed": false
   }
  },
  {
   "cell_type": "code",
   "execution_count": 86,
   "outputs": [
    {
     "data": {
      "text/plain": "10106    data/images_001/images/00000385_001.png\n97548    data/images_010/images/00021127_016.png\n46672    data/images_012/images/00030637_023.png\n40267    data/images_007/images/00014849_000.png\n45097    data/images_012/images/00028317_013.png\nName: image_path, dtype: object"
     },
     "execution_count": 86,
     "metadata": {},
     "output_type": "execute_result"
    }
   ],
   "source": [
    "X.head()"
   ],
   "metadata": {
    "collapsed": false
   }
  },
  {
   "cell_type": "code",
   "execution_count": 87,
   "outputs": [
    {
     "data": {
      "text/plain": "(6000, 1500, 6000, 1500)"
     },
     "execution_count": 87,
     "metadata": {},
     "output_type": "execute_result"
    }
   ],
   "source": [
    "# Split data into train and test sets\n",
    "from sklearn.model_selection import train_test_split\n",
    "\n",
    "X_train, X_valid, y_train, y_valid = train_test_split(X, y,\n",
    "                                                      test_size=0.2,\n",
    "                                                      random_state=42)\n",
    "\n",
    "len(X_train), len(X_valid), len(y_train), len(y_valid)"
   ],
   "metadata": {
    "collapsed": false
   }
  },
  {
   "cell_type": "markdown",
   "source": [
    "### Preprocessing images\n",
    "\n",
    "To preprocess images into Tensors one's going to write a function which does a few things:\n",
    "1. Take an image filepath as input\n",
    "2. Use TensorFlow to read the file and save it to a variable, `image`\n",
    "3. Turn our `image` (a jpg) into Tensors\n",
    "4. Normalize our image (convert RGB values from 0-255 to 0-1).\n",
    "5. Resize the `image` to be a shape of (224, 224)\n",
    "6. Return the modified `image`"
   ],
   "metadata": {
    "collapsed": false
   }
  },
  {
   "cell_type": "code",
   "execution_count": 88,
   "outputs": [],
   "source": [
    "IMG_SIZE = 224\n",
    "\n",
    "import tensorflow as tf\n",
    "\n",
    "def process_image(image_path, img_size=IMG_SIZE):\n",
    "    \"\"\"\n",
    "    Create a function to preprocess images using tensorflow\n",
    "    Load grayscale image with image_path as Tensor\n",
    "    Turn image into Tensor\n",
    "    Convert to RGB\n",
    "    Convert to 0-255 to 0-1\n",
    "    Resize image to [img_size, img_size]\n",
    "    :param image_path: Image filepath\n",
    "    :param img_size: Image size\n",
    "    :return: Preprocessed image\n",
    "    \"\"\"\n",
    "    # Read in an image file using\n",
    "    img =tf.io.read_file(image_path)\n",
    "    # decode grayscale png\n",
    "    img = tf.image.decode_png(img, channels=3)\n",
    "    # convert [0-255] to [0-1]\n",
    "    img = tf.image.convert_image_dtype(img, tf.float32)\n",
    "    # resize image\n",
    "    img = tf.image.resize(img, size=[img_size, img_size])\n",
    "\n",
    "    return img"
   ],
   "metadata": {
    "collapsed": false
   }
  },
  {
   "cell_type": "code",
   "execution_count": 89,
   "outputs": [],
   "source": [
    "# Let's test function with a random image\n",
    "image = process_image(X_train.iloc[1]);"
   ],
   "metadata": {
    "collapsed": false
   }
  },
  {
   "cell_type": "code",
   "execution_count": 90,
   "outputs": [
    {
     "data": {
      "text/plain": "<matplotlib.image.AxesImage at 0x168821100>"
     },
     "execution_count": 90,
     "metadata": {},
     "output_type": "execute_result"
    },
    {
     "data": {
      "text/plain": "<Figure size 640x480 with 1 Axes>",
      "image/png": "[encoded data removed]"
     },
     "metadata": {},
     "output_type": "display_data"
    }
   ],
   "source": [
    "# display image\n",
    "plt.imshow(image)"
   ],
   "metadata": {
    "collapsed": false
   }
  },
  {
   "cell_type": "markdown",
   "source": [
    "### Creating data batches\n",
    "\n",
    "To create data batches, one's going to use the `tf.data` module which can help speed up our modelling process.\n",
    "\n",
    "Since we're dealing with image data, it's a good idea to read our data in order. There are two main methods we can use to do this:\n",
    "\n",
    "* `tf.data.Dataset.from_tensor_slices()` - Reads in data from slices (in our case, slices of an array of image paths and labels)."
   ],
   "metadata": {
    "collapsed": false
   }
  },
  {
   "cell_type": "code",
   "execution_count": 91,
   "outputs": [
    {
     "data": {
      "text/plain": "(<tf.Tensor: shape=(224, 224, 3), dtype=float32, numpy=\n array([[[0.67933166, 0.67933166, 0.67933166],\n         [0.06020408, 0.06020408, 0.06020408],\n         [0.05764306, 0.05764306, 0.05764306],\n         ...,\n         [0.06430566, 0.06430566, 0.06430566],\n         [0.05714276, 0.05714276, 0.05714276],\n         [0.07491329, 0.07491329, 0.07491329]],\n \n        [[0.05938376, 0.05938376, 0.05938376],\n         [0.05742297, 0.05742297, 0.05742297],\n         [0.04733894, 0.04733894, 0.04733894],\n         ...,\n         [0.03921569, 0.03921569, 0.03921569],\n         [0.05570202, 0.05570202, 0.05570202],\n         [0.06304532, 0.06304532, 0.06304532]],\n \n        [[0.05786315, 0.05786315, 0.05786315],\n         [0.04733894, 0.04733894, 0.04733894],\n         [0.05746299, 0.05746299, 0.05746299],\n         ...,\n         [0.03529412, 0.03529412, 0.03529412],\n         [0.03529412, 0.03529412, 0.03529412],\n         [0.04039645, 0.04039645, 0.04039645]],\n \n        ...,\n \n        [[0.5013405 , 0.5013405 , 0.5013405 ],\n         [0.515046  , 0.515046  , 0.515046  ],\n         [0.54005593, 0.54005593, 0.54005593],\n         ...,\n         [0.282373  , 0.282373  , 0.282373  ],\n         [0.29655868, 0.29655868, 0.29655868],\n         [0.30162188, 0.30162188, 0.30162188]],\n \n        [[0.50418174, 0.50418174, 0.50418174],\n         [0.5130052 , 0.5130052 , 0.5130052 ],\n         [0.5404362 , 0.5404362 , 0.5404362 ],\n         ...,\n         [0.2994197 , 0.2994197 , 0.2994197 ],\n         [0.29361755, 0.29361755, 0.29361755],\n         [0.2927179 , 0.2927179 , 0.2927179 ]],\n \n        [[0.49105766, 0.49105766, 0.49105766],\n         [0.5204887 , 0.5204887 , 0.5204887 ],\n         [0.53485453, 0.53485453, 0.53485453],\n         ...,\n         [0.29603776, 0.29603776, 0.29603776],\n         [0.2926968 , 0.2926968 , 0.2926968 ],\n         [0.27963236, 0.27963236, 0.27963236]]], dtype=float32)>,\n array([0., 0., 0., 0., 0., 0., 1., 0., 0., 0., 0., 0., 0., 0.],\n       dtype=float32))"
     },
     "execution_count": 91,
     "metadata": {},
     "output_type": "execute_result"
    }
   ],
   "source": [
    "def get_image_label(image_path, label):\n",
    "    \"\"\"\n",
    "    Get image and label\n",
    "    :param image_path: Image filepath\n",
    "    :param label: Image label\n",
    "    :return: Image and label\n",
    "    \"\"\"\n",
    "    image = process_image(image_path)\n",
    "    return image, label\n",
    "\n",
    "path = X_train.values[0]\n",
    "label = y_train.values[0]\n",
    "\n",
    "tpl = get_image_label(path, label)\n",
    "tpl"
   ],
   "metadata": {
    "collapsed": false
   }
  },
  {
   "cell_type": "code",
   "execution_count": 92,
   "outputs": [],
   "source": [
    "# Define batch size\n",
    "BATCH_SIZE = 128\n",
    "def create_data_batches(X, y=None, batch_size=BATCH_SIZE, valid_data=False, test_data=False):\n",
    "    \"\"\"\n",
    "    Creates batches of data out of image (X) and label (y) pairs.\n",
    "    Shuffles the data if it's training data but doesn't shuffle if it's validation data.\n",
    "    Also accepts test data as input (no labels).\n",
    "    \"\"\"\n",
    "    # If the data is a test dataset, we probably don't have labels\n",
    "\n",
    "    y = list(y)\n",
    "\n",
    "    if test_data:\n",
    "        print(\"Creating test data batches...\")\n",
    "        data = tf.data.Dataset.from_tensor_slices((tf.constant(X))) # only filepaths (no labels)\n",
    "        data_batch = data.map(process_image).batch(batch_size)\n",
    "        return data_batch\n",
    "\n",
    "    # If the data is a valid dataset, we don't need to shuffle it\n",
    "    elif valid_data:\n",
    "        print(\"Creating validation data batches...\")\n",
    "        data = tf.data.Dataset.from_tensor_slices((tf.constant(X), # filepaths\n",
    "                                                   tf.constant(y))) # labels\n",
    "        data_batch = data.map(get_image_label).batch(batch_size)\n",
    "        return data_batch\n",
    "\n",
    "    else:\n",
    "        # If the data is a training dataset, we want to shuffle it\n",
    "        print(\"Creating training data batches...\")\n",
    "        # Turn filepaths and labels into Tensors\n",
    "        data = tf.data.Dataset.from_tensor_slices((tf.constant(X), # filepaths\n",
    "                                                   tf.constant(y))) # labels\n",
    "        # Shuffling pathname and labels before mapping image processor function is faster than shuffling images\n",
    "        data = data.shuffle(buffer_size=len(X))\n",
    "\n",
    "        # Create (image, label) tuples (this also turns the image path into a preprocessed image)\n",
    "        data = data.map(get_image_label)\n",
    "\n",
    "        # Turn the data into batches\n",
    "        data_batch = data.batch(batch_size)\n",
    "        return data_batch\n"
   ],
   "metadata": {
    "collapsed": false
   }
  },
  {
   "cell_type": "code",
   "execution_count": 93,
   "outputs": [
    {
     "name": "stdout",
     "output_type": "stream",
     "text": [
      "Creating training data batches...\n",
      "Creating validation data batches...\n"
     ]
    }
   ],
   "source": [
    "# Create training and validation data batches\n",
    "train_data = create_data_batches(X_train, y_train)\n",
    "valid_data = create_data_batches(X_valid, y_valid, valid_data=True)"
   ],
   "metadata": {
    "collapsed": false
   }
  },
  {
   "cell_type": "code",
   "execution_count": 94,
   "outputs": [
    {
     "data": {
      "text/plain": "((TensorSpec(shape=(None, 224, 224, 3), dtype=tf.float32, name=None),\n  TensorSpec(shape=(None, 14), dtype=tf.float32, name=None)),\n (TensorSpec(shape=(None, 224, 224, 3), dtype=tf.float32, name=None),\n  TensorSpec(shape=(None, 14), dtype=tf.float32, name=None)))"
     },
     "execution_count": 94,
     "metadata": {},
     "output_type": "execute_result"
    }
   ],
   "source": [
    "# Check out the different attributes of our data batches\n",
    "train_data.element_spec, valid_data.element_spec"
   ],
   "metadata": {
    "collapsed": false
   }
  },
  {
   "cell_type": "markdown",
   "source": [
    "### Visualizing training data batches\n",
    "\n",
    "To visualize training data batches, one's going to write a function which does a few things:\n",
    "1. Take a batch of images and labels from a training dataset as input\n",
    "2. Unpack the batch into images and labels\n",
    "3. Plot the images and labels in a grid\n",
    "4. Return the plotted grid\n",
    "5. Plot a single image and label from a training dataset\n",
    "6. Return the plotted image and label\n",
    "7. Plot a batch of images and labels from a training dataset\n",
    "8. Return the plotted grid\n",
    "9. Plot a batch of images and labels from a validation dataset\n",
    "10. Return the plotted grid\n",
    "11. Plot a batch of images and labels from a test dataset\n",
    "12. Return the plotted grid"
   ],
   "metadata": {
    "collapsed": false
   }
  },
  {
   "cell_type": "code",
   "execution_count": 95,
   "outputs": [],
   "source": [
    "def get_conditions(label):\n",
    "    \"\"\"\n",
    "    Get conditions from labels\n",
    "    :param label:\n",
    "    :return: Conditions string\n",
    "    \"\"\"\n",
    "    return \"|\".join(decode_vector(label))\n",
    "\n",
    "import matplotlib.pyplot as plt\n",
    "import numpy as np\n",
    "\n",
    "# Create a function for viewing images in a data batch\n",
    "def show_n_images(images, labels, n=25):\n",
    "    \"\"\"\n",
    "    Displays a plot of images with their labels.\n",
    "    :param images: Image\n",
    "    :param labels: Labels\n",
    "    :param n: Number of images to display\n",
    "    :return: Plot of images and labels\n",
    "    \"\"\"\n",
    "    # Create a figure with subplots\n",
    "    x = int(np.ceil(n / 5))\n",
    "    plt.figure(figsize=(10, int(10*n/25)))\n",
    "    # Loop through n (for displaying 25 images)\n",
    "    for i in range(n):\n",
    "        # Create subplots (x rows, 5 columns)\n",
    "        ax = plt.subplot(x, 5, i+1)\n",
    "        # Display an image\n",
    "        plt.imshow(images[i])\n",
    "        # Add the image label as the title\n",
    "        title = get_conditions(labels[i])\n",
    "        plt.title(title, fontsize=8)\n",
    "        # Turn the grid lines off\n",
    "        plt.axis(\"off\")\n",
    "        plt.tight_layout()\n",
    "    plt.show()\n",
    "# Now let's visualize a batch of training data\n",
    "images, labels = next(train_data.as_numpy_iterator())"
   ],
   "metadata": {
    "collapsed": false
   }
  },
  {
   "cell_type": "code",
   "execution_count": null,
   "outputs": [],
   "source": [
    "show_at_once = min(BATCH_SIZE, 25)\n",
    "show_n_images(images, labels, show_at_once);"
   ],
   "metadata": {
    "collapsed": false,
    "pycharm": {
     "is_executing": true
    }
   }
  },
  {
   "cell_type": "code",
   "execution_count": null,
   "outputs": [],
   "source": [
    "# Now let's visualize our validation set\n",
    "val_images, val_labels = next(valid_data.as_numpy_iterator())\n",
    "show_n_images(val_images, val_labels, show_at_once);"
   ],
   "metadata": {
    "collapsed": false,
    "pycharm": {
     "is_executing": true
    }
   }
  },
  {
   "cell_type": "code",
   "execution_count": null,
   "outputs": [],
   "source": [
    "INPUT_SHAPE = [None, IMG_SIZE, IMG_SIZE, 3]\n",
    "OUTPUT_SHAPE = len(unique_diseases)\n",
    "# best pretrained model for chest x-ray images 14-classes classification\n",
    "MODEL_URL = \"https://tfhub.dev/google/imagenet/resnet_v2_50/feature_vector/5\"\n",
    "# LR = 0.001\n",
    "LR=0.004\n",
    "# MODEL_URL = \"https://tfhub.dev/google/imagenet/inception_v3/classification/5\"\n",
    "# LR = 0.04"
   ],
   "metadata": {
    "collapsed": false,
    "pycharm": {
     "is_executing": true
    }
   }
  },
  {
   "cell_type": "code",
   "execution_count": null,
   "outputs": [],
   "source": [
    "import tensorflow as tf\n",
    "import tensorflow_hub as hub\n",
    "\n",
    "# Create a function which builds a Keras model\n",
    "def create_model(input_shape=INPUT_SHAPE, output_shape=OUTPUT_SHAPE, model_url=MODEL_URL, hidden_layer=128):\n",
    "\n",
    "    # Download the pretrained model and save it as a Keras layer\n",
    "    keras_layer = hub.KerasLayer(model_url,\n",
    "                                 trainable=False, # freeze the already learned patterns\n",
    "                                 name=\"inputs\", # name the layer\n",
    "                                 input_shape=input_shape[1:]) # input shape to the model\n",
    "\n",
    "    model = tf.keras.Sequential([\n",
    "        keras_layer,\n",
    "        # tf.keras.layers.Dense(hidden_layer, activation=\"relu\"),\n",
    "        tf.keras.layers.Dense(output_shape, activation=\"sigmoid\", name=\"outputs\")\n",
    "    ])\n",
    "\n",
    "    model.compile(\n",
    "        loss='binary_crossentropy',\n",
    "        optimizer=tf.keras.optimizers.legacy.Adam(learning_rate=LR), # updated optimizer to the latest version\n",
    "        metrics=['accuracy']\n",
    "    )\n",
    "\n",
    "    model.build(input_shape)\n",
    "\n",
    "    return model\n",
    "\n"
   ],
   "metadata": {
    "collapsed": false,
    "pycharm": {
     "is_executing": true
    }
   }
  },
  {
   "cell_type": "markdown",
   "source": [
    "### Model checkpoint, tensorboard saving logs, early stopping callback"
   ],
   "metadata": {
    "collapsed": false
   }
  },
  {
   "cell_type": "code",
   "execution_count": null,
   "outputs": [],
   "source": [
    "import datetime\n",
    "\n",
    "from tensorflow.keras.callbacks import ReduceLROnPlateau\n",
    "\n",
    "# scheduler\n",
    "lr_scheduler = ReduceLROnPlateau(monitor='val_loss', factor=0.2,\n",
    "                                 patience=5, min_lr=1e-5, min_delta=0.001, mode='min')\n",
    "\n",
    "# Create a model checkpoint callback which saves the model's weights only\n",
    "checkpoint_path = \"model_checkpoints/cp.ckpt\"\n",
    "model_checkpoint = tf.keras.callbacks.ModelCheckpoint(\n",
    "    checkpoint_path,\n",
    "    monitor=\"val_loss\",\n",
    "    save_weights_only=True,\n",
    "    save_best_only=True,\n",
    "    save_freq=5,  # save weights after every 5 epochs\n",
    "    verbose=1,\n",
    "    mode=\"min\",\n",
    "    save_format=\"h5\"\n",
    ")\n",
    "\n",
    "\n",
    "# Create a model saving logs callback for tensorboard\n",
    "log_dir = \"data/logs/\" + datetime.datetime.now().strftime(\"%Y%m%d-%H%M%S\")\n",
    "tensorboard_callback = tf.keras.callbacks.TensorBoard(log_dir=log_dir,\n",
    "                                                      histogram_freq=2)\n",
    "\n",
    "# Create early stopping callback model = fit_model();\n",
    "# loss,categorical_accuracy,val_loss,val_categorical_accuracy\n",
    "early_stopping = tf.keras.callbacks.EarlyStopping(monitor='val_accuracy',\n",
    "                                                  patience=3,\n",
    "                                                  start_from_epoch=3)\n",
    "\n"
   ],
   "metadata": {
    "collapsed": false,
    "pycharm": {
     "is_executing": true
    }
   }
  },
  {
   "cell_type": "markdown",
   "source": [
    "### Training model (on a subset of data)\n",
    "\n",
    "We'll train our model on a subset of data (IMAGE_COUNT=1000) to see how it performs."
   ],
   "metadata": {
    "collapsed": false
   }
  },
  {
   "cell_type": "code",
   "execution_count": null,
   "outputs": [],
   "source": [
    "# Setting NUM_EPOCHS\n",
    "NUM_EPOCHS = 100"
   ],
   "metadata": {
    "collapsed": false,
    "pycharm": {
     "is_executing": true
    }
   }
  },
  {
   "cell_type": "code",
   "execution_count": null,
   "outputs": [],
   "source": [
    "# Check which GPU is available\n",
    "print(\"GPU\", \"available (YAY!)\" if tf.config.list_physical_devices(\"GPU\") else \"not available :(\")"
   ],
   "metadata": {
    "collapsed": false,
    "pycharm": {
     "is_executing": true
    }
   }
  },
  {
   "cell_type": "markdown",
   "source": [
    "Let's create functions to trains our model\n",
    "\n",
    "1. Call create_model()\n",
    "2. Set our callbacks: early_stopping / tensorboard_callback / model_checkpoint\n",
    "3. Fit the model on the subset of the training data\n",
    "4. Returns the model"
   ],
   "metadata": {
    "collapsed": false
   }
  },
  {
   "cell_type": "code",
   "execution_count": null,
   "outputs": [],
   "source": [
    "# Build a function to train and return a trained model\n",
    "def fit_model():\n",
    "    \"\"\"\n",
    "    Let’s create functions to trains our model\n",
    "    Call create_model()\n",
    "    Set our callbacks: early_stopping / tensorboard_callback / model_checkpoint\n",
    "    Fit the model on the subset of the training data\n",
    "\n",
    "    :return: Returns the model\n",
    "    \"\"\"\n",
    "\n",
    "    # Create the model\n",
    "    model = create_model()\n",
    "\n",
    "    print(\"Model summary:\", model.summary())\n",
    "\n",
    "    # Fit the model to the data passing it the callbacks we created\n",
    "    model.fit(train_data,\n",
    "              epochs=NUM_EPOCHS,\n",
    "              validation_data=valid_data,\n",
    "              validation_freq=1,\n",
    "              callbacks=[early_stopping, lr_scheduler])\n",
    "\n",
    "    return model"
   ],
   "metadata": {
    "collapsed": false,
    "pycharm": {
     "is_executing": true
    }
   }
  },
  {
   "cell_type": "code",
   "execution_count": null,
   "outputs": [
    {
     "name": "stdout",
     "output_type": "stream",
     "text": [
      "29/47 [=================>............] - ETA: 9s - loss: 0.3845 - accuracy: 0.0908"
     ]
    },
    {
     "name": "stderr",
     "output_type": "stream",
     "text": [
      "2023-02-13 11:35:23.443018: W tensorflow/core/lib/png/png_io.cc:88] PNG warning: iCCP: profile 'ICC Profile': 'GRAY': Gray color space not permitted on RGB PNG\n"
     ]
    },
    {
     "name": "stdout",
     "output_type": "stream",
     "text": [
      "47/47 [==============================] - ETA: 0s - loss: 0.3342 - accuracy: 0.1078"
     ]
    },
    {
     "name": "stderr",
     "output_type": "stream",
     "text": [
      "2023-02-13 11:35:32.567357: I tensorflow/core/grappler/optimizers/custom_graph_optimizer_registry.cc:114] Plugin optimizer for device_type GPU is enabled.\n"
     ]
    },
    {
     "name": "stdout",
     "output_type": "stream",
     "text": [
      "47/47 [==============================] - 32s 647ms/step - loss: 0.3342 - accuracy: 0.1078 - val_loss: 0.2363 - val_accuracy: 0.1733 - lr: 0.0040\n",
      "Epoch 2/100\n",
      "10/47 [=====>........................] - ETA: 18s - loss: 0.2260 - accuracy: 0.2133"
     ]
    },
    {
     "name": "stderr",
     "output_type": "stream",
     "text": [
      "2023-02-13 11:35:44.508447: W tensorflow/core/lib/png/png_io.cc:88] PNG warning: iCCP: profile 'ICC Profile': 'GRAY': Gray color space not permitted on RGB PNG\n"
     ]
    },
    {
     "name": "stdout",
     "output_type": "stream",
     "text": [
      "47/47 [==============================] - 30s 640ms/step - loss: 0.2239 - accuracy: 0.2298 - val_loss: 0.2268 - val_accuracy: 0.2280 - lr: 0.0040\n",
      "Epoch 3/100\n",
      "31/47 [==================>...........] - ETA: 8s - loss: 0.2113 - accuracy: 0.2908"
     ]
    },
    {
     "name": "stderr",
     "output_type": "stream",
     "text": [
      "2023-02-13 11:36:25.267628: W tensorflow/core/lib/png/png_io.cc:88] PNG warning: iCCP: profile 'ICC Profile': 'GRAY': Gray color space not permitted on RGB PNG\n"
     ]
    },
    {
     "name": "stdout",
     "output_type": "stream",
     "text": [
      "47/47 [==============================] - 30s 632ms/step - loss: 0.2109 - accuracy: 0.2875 - val_loss: 0.2218 - val_accuracy: 0.2353 - lr: 0.0040\n",
      "Epoch 4/100\n",
      "27/47 [================>.............] - ETA: 10s - loss: 0.2001 - accuracy: 0.3345"
     ]
    },
    {
     "name": "stderr",
     "output_type": "stream",
     "text": [
      "2023-02-13 11:36:53.269303: W tensorflow/core/lib/png/png_io.cc:88] PNG warning: iCCP: profile 'ICC Profile': 'GRAY': Gray color space not permitted on RGB PNG\n"
     ]
    },
    {
     "name": "stdout",
     "output_type": "stream",
     "text": [
      "47/47 [==============================] - 30s 637ms/step - loss: 0.2002 - accuracy: 0.3340 - val_loss: 0.2285 - val_accuracy: 0.2373 - lr: 0.0040\n",
      "Epoch 5/100\n",
      "20/47 [===========>..................] - ETA: 13s - loss: 0.1893 - accuracy: 0.3953"
     ]
    },
    {
     "name": "stderr",
     "output_type": "stream",
     "text": [
      "2023-02-13 11:37:20.068575: W tensorflow/core/lib/png/png_io.cc:88] PNG warning: iCCP: profile 'ICC Profile': 'GRAY': Gray color space not permitted on RGB PNG\n"
     ]
    },
    {
     "name": "stdout",
     "output_type": "stream",
     "text": [
      "47/47 [==============================] - 30s 638ms/step - loss: 0.1920 - accuracy: 0.3740 - val_loss: 0.2245 - val_accuracy: 0.2440 - lr: 0.0040\n",
      "Epoch 6/100\n",
      " 2/47 [>.............................] - ETA: 22s - loss: 0.1738 - accuracy: 0.4297"
     ]
    },
    {
     "name": "stderr",
     "output_type": "stream",
     "text": [
      "2023-02-13 11:37:40.998494: W tensorflow/core/lib/png/png_io.cc:88] PNG warning: iCCP: profile 'ICC Profile': 'GRAY': Gray color space not permitted on RGB PNG\n"
     ]
    },
    {
     "name": "stdout",
     "output_type": "stream",
     "text": [
      "47/47 [==============================] - 30s 628ms/step - loss: 0.1849 - accuracy: 0.4112 - val_loss: 0.2237 - val_accuracy: 0.2500 - lr: 0.0040\n",
      "Epoch 7/100\n",
      "37/47 [======================>.......] - ETA: 4s - loss: 0.1775 - accuracy: 0.4367"
     ]
    },
    {
     "name": "stderr",
     "output_type": "stream",
     "text": [
      "2023-02-13 11:38:27.925681: W tensorflow/core/lib/png/png_io.cc:88] PNG warning: iCCP: profile 'ICC Profile': 'GRAY': Gray color space not permitted on RGB PNG\n"
     ]
    },
    {
     "name": "stdout",
     "output_type": "stream",
     "text": [
      "47/47 [==============================] - 29s 622ms/step - loss: 0.1787 - accuracy: 0.4302 - val_loss: 0.2223 - val_accuracy: 0.2673 - lr: 0.0040\n",
      "Epoch 8/100\n",
      " 1/47 [..............................] - ETA: 33s - loss: 0.1640 - accuracy: 0.4844"
     ]
    },
    {
     "name": "stderr",
     "output_type": "stream",
     "text": [
      "2023-02-13 11:38:39.475704: W tensorflow/core/lib/png/png_io.cc:88] PNG warning: iCCP: profile 'ICC Profile': 'GRAY': Gray color space not permitted on RGB PNG\n"
     ]
    },
    {
     "name": "stdout",
     "output_type": "stream",
     "text": [
      "47/47 [==============================] - 29s 619ms/step - loss: 0.1734 - accuracy: 0.4615 - val_loss: 0.2246 - val_accuracy: 0.2567 - lr: 0.0040\n",
      "Epoch 9/100\n",
      " 2/47 [>.............................] - ETA: 22s - loss: 0.1684 - accuracy: 0.4844"
     ]
    },
    {
     "name": "stderr",
     "output_type": "stream",
     "text": [
      "2023-02-13 11:39:09.078219: W tensorflow/core/lib/png/png_io.cc:88] PNG warning: iCCP: profile 'ICC Profile': 'GRAY': Gray color space not permitted on RGB PNG\n"
     ]
    },
    {
     "name": "stdout",
     "output_type": "stream",
     "text": [
      "47/47 [==============================] - 29s 620ms/step - loss: 0.1616 - accuracy: 0.5138 - val_loss: 0.2209 - val_accuracy: 0.2673 - lr: 8.0000e-04\n",
      "Epoch 10/100\n",
      " 3/47 [>.............................] - ETA: 21s - loss: 0.1624 - accuracy: 0.5286"
     ]
    },
    {
     "name": "stderr",
     "output_type": "stream",
     "text": [
      "2023-02-13 11:39:38.744939: W tensorflow/core/lib/png/png_io.cc:88] PNG warning: iCCP: profile 'ICC Profile': 'GRAY': Gray color space not permitted on RGB PNG\n"
     ]
    },
    {
     "name": "stdout",
     "output_type": "stream",
     "text": [
      "47/47 [==============================] - 29s 620ms/step - loss: 0.1599 - accuracy: 0.5265 - val_loss: 0.2198 - val_accuracy: 0.2747 - lr: 8.0000e-04\n",
      "Epoch 11/100\n",
      "14/47 [=======>......................] - ETA: 16s - loss: 0.1596 - accuracy: 0.5446"
     ]
    },
    {
     "name": "stderr",
     "output_type": "stream",
     "text": [
      "2023-02-13 11:40:13.467962: W tensorflow/core/lib/png/png_io.cc:88] PNG warning: iCCP: profile 'ICC Profile': 'GRAY': Gray color space not permitted on RGB PNG\n"
     ]
    },
    {
     "name": "stdout",
     "output_type": "stream",
     "text": [
      "47/47 [==============================] - 29s 619ms/step - loss: 0.1591 - accuracy: 0.5320 - val_loss: 0.2204 - val_accuracy: 0.2687 - lr: 8.0000e-04\n",
      "Epoch 12/100\n",
      " 7/47 [===>..........................] - ETA: 19s - loss: 0.1560 - accuracy: 0.5391"
     ]
    },
    {
     "name": "stderr",
     "output_type": "stream",
     "text": [
      "2023-02-13 11:40:39.424300: W tensorflow/core/lib/png/png_io.cc:88] PNG warning: iCCP: profile 'ICC Profile': 'GRAY': Gray color space not permitted on RGB PNG\n"
     ]
    },
    {
     "name": "stdout",
     "output_type": "stream",
     "text": [
      "47/47 [==============================] - 29s 620ms/step - loss: 0.1577 - accuracy: 0.5327 - val_loss: 0.2202 - val_accuracy: 0.2720 - lr: 8.0000e-04\n",
      "Epoch 13/100\n"
     ]
    },
    {
     "name": "stderr",
     "output_type": "stream",
     "text": [
      "2023-02-13 11:41:05.059849: W tensorflow/core/lib/png/png_io.cc:88] PNG warning: iCCP: profile 'ICC Profile': 'GRAY': Gray color space not permitted on RGB PNG\n"
     ]
    },
    {
     "name": "stdout",
     "output_type": "stream",
     "text": [
      "47/47 [==============================] - 29s 620ms/step - loss: 0.1569 - accuracy: 0.5410 - val_loss: 0.2216 - val_accuracy: 0.2627 - lr: 8.0000e-04\n"
     ]
    }
   ],
   "source": [
    "# Fit the model to the data\n",
    "model = fit_model();"
   ],
   "metadata": {
    "collapsed": false,
    "pycharm": {
     "is_executing": true
    }
   }
  },
  {
   "cell_type": "code",
   "execution_count": 108,
   "outputs": [
    {
     "name": "stderr",
     "output_type": "stream",
     "text": [
      "UsageError: Line magic function `%tensorboard` not found.\n"
     ]
    }
   ],
   "source": [
    "%tensorboard --load_fast=false --bind_all --logdir \"/Users/blazej.przybyszewski/Desktop/src/chest-xray-classification/data/logs\""
   ],
   "metadata": {
    "collapsed": false
   }
  },
  {
   "cell_type": "code",
   "execution_count": null,
   "outputs": [],
   "source": [
    "%tensorboard --logdir \"/Users/blazej.przybyszewski/Desktop/src/data/logs\""
   ],
   "metadata": {
    "collapsed": false
   }
  }
 ],
 "metadata": {
  "kernelspec": {
   "name": "tensorflow-metal",
   "language": "python",
   "display_name": "Python 3.8 (tensorflow-metal)"
  },
  "language_info": {
   "codemirror_mode": {
    "name": "ipython",
    "version": 3
   },
   "file_extension": ".py",
   "mimetype": "text/x-python",
   "name": "python",
   "nbconvert_exporter": "python",
   "pygments_lexer": "ipython3",
   "version": "3.8.15"
  }
 },
 "nbformat": 4,
 "nbformat_minor": 5
}
