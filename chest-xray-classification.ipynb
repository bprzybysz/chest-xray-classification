{
 "cells": [
  {
   "cell_type": "markdown",
   "source": [
    "# Chest X-Ray Vison\n",
    "\n",
    "## 1. Problem\n",
    "This notebook is a simple example of using a pre-trained model to classify chest x-rays. The model is trained on the NIH Chest X-Ray dataset, which contains 112,120 images of chest x-rays. The dataset is split into 14 classes, which are:\n",
    "- Atelectasis\n",
    "- Cardiomegaly\n",
    "- Effusion\n",
    "- Infiltration\n",
    "- Mass\n",
    "- Nodule\n",
    "- Pneumonia\n",
    "- Pneumothorax\n",
    "- Consolidation\n",
    "- Edema\n",
    "- Emphysema\n",
    "- Fibrosis\n",
    "- Pleural_Thickening\n",
    "- Hernia\n",
    "- No Finding\n",
    "\n",
    "When I receive new chest x-rays, I want to be able to quickly classify them into one of these 14 classes. This will help me to quickly identify the most important x-rays to review.\n",
    "\n",
    "## 2. Data\n",
    "The data is available on Kaggle at https://www.kaggle.com/nih-chest-xrays/data. and was downloaded and extracted to the data folder.\n",
    "Data was distributed into 12 directories\n",
    "\n",
    "\n",
    "## 3. Evaluation\n",
    "Evaluation is prediction probability of each class for each image. The evaluation metric is the mean average precision at different intersection over union (IoU) thresholds. The model will be evaluated on the test set.\n"
   ],
   "metadata": {
    "collapsed": false
   }
  },
  {
   "cell_type": "code",
   "execution_count": 2,
   "outputs": [
    {
     "data": {
      "text/plain": "('2.11.0', '0.12.0')"
     },
     "execution_count": 2,
     "metadata": {},
     "output_type": "execute_result"
    }
   ],
   "source": [
    "import bitarray as bitarray\n",
    "import tensorflow as tf\n",
    "import tensorflow_hub as hub\n",
    "\n",
    "tf.__version__ , hub.__version__"
   ],
   "metadata": {
    "collapsed": false
   }
  },
  {
   "cell_type": "markdown",
   "source": [
    "## 2. Data exploration / preprocessing\n",
    "\n",
    "Now we'll prepare the data for the model. We'll do the following:\n",
    "- Load images paths from the data folder\n",
    "- Load labels from the data/Data_Entry_2017.csv file and other features\n",
    "- One-hot encode labels\n",
    "- Remove nan values if any and remove unused columns\n",
    "- Split data into train and test sets\n",
    "- Create tf.data.Dataset from train and test sets"
   ],
   "metadata": {
    "collapsed": false
   }
  },
  {
   "cell_type": "code",
   "execution_count": 3,
   "outputs": [
    {
     "data": {
      "text/plain": "                                image_path          filename\n0  data/images_006/images/00011723_001.png  00011723_001.png\n1  data/images_006/images/00013648_003.png  00013648_003.png\n2  data/images_006/images/00011945_002.png  00011945_002.png\n3  data/images_006/images/00012342_003.png  00012342_003.png\n4  data/images_006/images/00011955_002.png  00011955_002.png",
      "text/html": "<div>\n<style scoped>\n    .dataframe tbody tr th:only-of-type {\n        vertical-align: middle;\n    }\n\n    .dataframe tbody tr th {\n        vertical-align: top;\n    }\n\n    .dataframe thead th {\n        text-align: right;\n    }\n</style>\n<table border=\"1\" class=\"dataframe\">\n  <thead>\n    <tr style=\"text-align: right;\">\n      <th></th>\n      <th>image_path</th>\n      <th>filename</th>\n    </tr>\n  </thead>\n  <tbody>\n    <tr>\n      <th>0</th>\n      <td>data/images_006/images/00011723_001.png</td>\n      <td>00011723_001.png</td>\n    </tr>\n    <tr>\n      <th>1</th>\n      <td>data/images_006/images/00013648_003.png</td>\n      <td>00013648_003.png</td>\n    </tr>\n    <tr>\n      <th>2</th>\n      <td>data/images_006/images/00011945_002.png</td>\n      <td>00011945_002.png</td>\n    </tr>\n    <tr>\n      <th>3</th>\n      <td>data/images_006/images/00012342_003.png</td>\n      <td>00012342_003.png</td>\n    </tr>\n    <tr>\n      <th>4</th>\n      <td>data/images_006/images/00011955_002.png</td>\n      <td>00011955_002.png</td>\n    </tr>\n  </tbody>\n</table>\n</div>"
     },
     "execution_count": 3,
     "metadata": {},
     "output_type": "execute_result"
    }
   ],
   "source": [
    "# Dataset was downloaded from https://www.kaggle.com/datasets/nih-chest-xrays/data and extracted to the data folder\n",
    "import logging\n",
    "logging.getLogger('tensorflow').setLevel(logging.ERROR)\n",
    "\n",
    "# Pandas table of all images (*.png) paths from the data folder\n",
    "import pandas as pd\n",
    "import glob\n",
    "\n",
    "image_paths = glob.glob(\"data/images_*/images/*.png\")\n",
    "data = pd.DataFrame(image_paths, columns=[\"image_path\"])\n",
    "# Add column with filename\n",
    "data[\"filename\"] = data[\"image_path\"].apply(lambda x: x.split(\"/\")[-1])\n",
    "data.head()"
   ],
   "metadata": {
    "collapsed": false
   }
  },
  {
   "cell_type": "code",
   "execution_count": 4,
   "outputs": [],
   "source": [
    "# Concatenation image_paths with data/Data_Entry_2017.csv where filename is the same as column \"Filename\"\n",
    "data_entry = pd.read_csv(\"data/Data_Entry_2017.csv\")"
   ],
   "metadata": {
    "collapsed": false
   }
  },
  {
   "cell_type": "code",
   "execution_count": 5,
   "outputs": [
    {
     "name": "stdout",
     "output_type": "stream",
     "text": [
      "Images count matches data entries! :)\n"
     ]
    }
   ],
   "source": [
    "# row count compare of data and data_entry\n",
    "print(\"Images count matches data entries! :)\") if data.shape[0] == data_entry.shape[0] else print(\"Images count doesn't match data entries! :(\")"
   ],
   "metadata": {
    "collapsed": false
   }
  },
  {
   "cell_type": "code",
   "execution_count": 6,
   "outputs": [],
   "source": [
    "data = pd.merge(data, data_entry, left_on=\"filename\", right_on=\"Image Index\")\n",
    "data.drop(columns=[\"filename\", \"Image Index\", \"OriginalImage[Width\", \"Height]\", \"OriginalImagePixelSpacing[x\", \"y]\", \"Unnamed: 11\"], inplace=True)"
   ],
   "metadata": {
    "collapsed": false
   }
  },
  {
   "cell_type": "code",
   "execution_count": 7,
   "outputs": [
    {
     "name": "stdout",
     "output_type": "stream",
     "text": [
      "<class 'pandas.core.frame.DataFrame'>\n",
      "Int64Index: 112120 entries, 0 to 112119\n",
      "Data columns (total 7 columns):\n",
      " #   Column          Non-Null Count   Dtype \n",
      "---  ------          --------------   ----- \n",
      " 0   image_path      112120 non-null  object\n",
      " 1   Finding Labels  112120 non-null  object\n",
      " 2   Follow-up #     112120 non-null  int64 \n",
      " 3   Patient ID      112120 non-null  int64 \n",
      " 4   Patient Age     112120 non-null  int64 \n",
      " 5   Patient Gender  112120 non-null  object\n",
      " 6   View Position   112120 non-null  object\n",
      "dtypes: int64(3), object(4)\n",
      "memory usage: 6.8+ MB\n"
     ]
    }
   ],
   "source": [
    "data.info()"
   ],
   "metadata": {
    "collapsed": false
   }
  },
  {
   "cell_type": "code",
   "execution_count": 8,
   "outputs": [],
   "source": [
    " # Clear nan \"Finding Labels\"\n",
    "data.dropna(subset=[\"Finding Labels\"], inplace=True)\n"
   ],
   "metadata": {
    "collapsed": false
   }
  },
  {
   "cell_type": "code",
   "execution_count": 9,
   "outputs": [
    {
     "data": {
      "text/plain": "         Follow-up #     Patient ID    Patient Age\ncount  112120.000000  112120.000000  112120.000000\nmean        8.573751   14346.381743      46.901463\nstd        15.406320    8403.876972      16.839923\nmin         0.000000       1.000000       1.000000\n25%         0.000000    7310.750000      35.000000\n50%         3.000000   13993.000000      49.000000\n75%        10.000000   20673.000000      59.000000\nmax       183.000000   30805.000000     414.000000",
      "text/html": "<div>\n<style scoped>\n    .dataframe tbody tr th:only-of-type {\n        vertical-align: middle;\n    }\n\n    .dataframe tbody tr th {\n        vertical-align: top;\n    }\n\n    .dataframe thead th {\n        text-align: right;\n    }\n</style>\n<table border=\"1\" class=\"dataframe\">\n  <thead>\n    <tr style=\"text-align: right;\">\n      <th></th>\n      <th>Follow-up #</th>\n      <th>Patient ID</th>\n      <th>Patient Age</th>\n    </tr>\n  </thead>\n  <tbody>\n    <tr>\n      <th>count</th>\n      <td>112120.000000</td>\n      <td>112120.000000</td>\n      <td>112120.000000</td>\n    </tr>\n    <tr>\n      <th>mean</th>\n      <td>8.573751</td>\n      <td>14346.381743</td>\n      <td>46.901463</td>\n    </tr>\n    <tr>\n      <th>std</th>\n      <td>15.406320</td>\n      <td>8403.876972</td>\n      <td>16.839923</td>\n    </tr>\n    <tr>\n      <th>min</th>\n      <td>0.000000</td>\n      <td>1.000000</td>\n      <td>1.000000</td>\n    </tr>\n    <tr>\n      <th>25%</th>\n      <td>0.000000</td>\n      <td>7310.750000</td>\n      <td>35.000000</td>\n    </tr>\n    <tr>\n      <th>50%</th>\n      <td>3.000000</td>\n      <td>13993.000000</td>\n      <td>49.000000</td>\n    </tr>\n    <tr>\n      <th>75%</th>\n      <td>10.000000</td>\n      <td>20673.000000</td>\n      <td>59.000000</td>\n    </tr>\n    <tr>\n      <th>max</th>\n      <td>183.000000</td>\n      <td>30805.000000</td>\n      <td>414.000000</td>\n    </tr>\n  </tbody>\n</table>\n</div>"
     },
     "execution_count": 9,
     "metadata": {},
     "output_type": "execute_result"
    }
   ],
   "source": [
    "data.describe()"
   ],
   "metadata": {
    "collapsed": false
   }
  },
  {
   "cell_type": "code",
   "execution_count": 10,
   "outputs": [],
   "source": [
    "import bitarray\n",
    "import numpy as np\n",
    "# Generate one-hot encoded column \"Patient Gender\" and \"View Position\" and change their type to int\n",
    "new_data = pd.DataFrame()\n",
    "data[\"Patient is F\"] = data[\"Patient Gender\"].apply(lambda x: 1 if x == \"F\" else 0).astype(\"bool\")\n",
    "data[\"Position is AP\"] = data[\"View Position\"].apply(lambda x: 1 if x == \"AP\" else 0).astype(\"bool\")\n",
    "\n",
    "# data[\"Patient Gender\"] = data[\"Patient Gender\"].apply(lambda x: 1 if x == \"F\" else 0)\n",
    "#"
   ],
   "metadata": {
    "collapsed": false
   }
  },
  {
   "cell_type": "code",
   "execution_count": 11,
   "outputs": [
    {
     "name": "stdout",
     "output_type": "stream",
     "text": [
      "<class 'pandas.core.frame.DataFrame'>\n",
      "Int64Index: 112120 entries, 0 to 112119\n",
      "Data columns (total 9 columns):\n",
      " #   Column          Non-Null Count   Dtype \n",
      "---  ------          --------------   ----- \n",
      " 0   image_path      112120 non-null  object\n",
      " 1   Finding Labels  112120 non-null  object\n",
      " 2   Follow-up #     112120 non-null  int64 \n",
      " 3   Patient ID      112120 non-null  int64 \n",
      " 4   Patient Age     112120 non-null  int64 \n",
      " 5   Patient Gender  112120 non-null  object\n",
      " 6   View Position   112120 non-null  object\n",
      " 7   Patient is F    112120 non-null  bool  \n",
      " 8   Position is AP  112120 non-null  bool  \n",
      "dtypes: bool(2), int64(3), object(4)\n",
      "memory usage: 7.1+ MB\n"
     ]
    }
   ],
   "source": [
    "data.info()"
   ],
   "metadata": {
    "collapsed": false
   }
  },
  {
   "cell_type": "code",
   "execution_count": 12,
   "outputs": [
    {
     "data": {
      "text/plain": "0         11722\n1         13647\n2         11944\n3         12341\n4         11954\n          ...  \n112115    25786\n112116    26431\n112117    25453\n112118    27854\n112119    25757\nLength: 112120, dtype: int16"
     },
     "execution_count": 12,
     "metadata": {},
     "output_type": "execute_result"
    }
   ],
   "source": [
    "# Get \"Patient ID\" category codes\n",
    "data[\"Patient ID\"].astype(\"category\").cat.codes"
   ],
   "metadata": {
    "collapsed": false
   }
  },
  {
   "cell_type": "code",
   "execution_count": 13,
   "outputs": [],
   "source": [
    "\n",
    "# Define the class labels in a sorted set\n",
    "unique_diseases = [\"Atelectasis\", \"Consolidation\", \"Infiltration\", \"Pneumothorax\", \"Edema\", \"Emphysema\", \"Fibrosis\", \"Effusion\", \"Pneumonia\", \"Pleural_Thickening\", \"Cardiomegaly\", \"Nodule\", \"Mass\", \"Hernia\"]\n",
    "\n",
    "d = {label: ix for ix, label in enumerate(unique_diseases)}\n",
    "\n",
    "# Column \"Finding Labels\" contains multiple label names separated by \"|\". \"No Finding\" means no disease.\n",
    "# Define a function to convert \"Finding Labels\" to one-hot encoded in one hot encoded vector stored in \"Disease Vector\". \"No Finding\" is encoded as all zeros.\n",
    "def convert_labels_to_vector(labels):\n",
    "    # split labels by \"|\"\n",
    "    labels = labels.split(\"|\")\n",
    "    # create a bitarray full of False with length of unique_diseases\n",
    "    vector = bitarray.bitarray('0'*14)\n",
    "    # if \"No Finding\" in labels, return vector\n",
    "    if \"No Finding\" in labels:\n",
    "        return vector\n",
    "    # for each label in labels, set the corresponding index in vector to 1\n",
    "    for label in labels:\n",
    "        vector[d[label]] = 1\n",
    "\n",
    "    return vector\n",
    "\n",
    "# Apply convert_labels_to_vector to \"Finding Labels\" column and store in \"Disease Vector\" column\n",
    "data[\"Disease Vector\"] = data[\"Finding Labels\"].apply(convert_labels_to_vector)"
   ],
   "metadata": {
    "collapsed": false
   }
  },
  {
   "cell_type": "code",
   "execution_count": 14,
   "outputs": [
    {
     "data": {
      "text/plain": "0    [1, 0, 1, 0, 0, 0, 0, 0, 0, 0, 0, 0, 0, 0]\n1    [0, 0, 0, 0, 0, 0, 0, 0, 0, 0, 0, 0, 0, 0]\n2    [0, 0, 0, 0, 0, 0, 0, 0, 0, 0, 0, 0, 0, 0]\n3    [0, 0, 0, 0, 0, 0, 0, 0, 0, 0, 0, 0, 1, 0]\n4    [0, 0, 1, 0, 0, 0, 0, 1, 0, 0, 0, 0, 0, 0]\nName: Disease Vector, dtype: object"
     },
     "execution_count": 14,
     "metadata": {},
     "output_type": "execute_result"
    }
   ],
   "source": [
    "data[\"Disease Vector\"].head()"
   ],
   "metadata": {
    "collapsed": false
   }
  },
  {
   "cell_type": "code",
   "execution_count": 15,
   "outputs": [
    {
     "data": {
      "text/plain": "image_path        0\nFinding Labels    0\nFollow-up #       0\nPatient ID        0\nPatient Age       0\nPatient Gender    0\nView Position     0\nPatient is F      0\nPosition is AP    0\nDisease Vector    0\ndtype: int64"
     },
     "execution_count": 15,
     "metadata": {},
     "output_type": "execute_result"
    }
   ],
   "source": [
    "# Nan values per column\n",
    "data.isna().sum()"
   ],
   "metadata": {
    "collapsed": false
   }
  },
  {
   "cell_type": "code",
   "execution_count": 16,
   "outputs": [
    {
     "data": {
      "text/plain": "[['Atelectasis', 'Infiltration'],\n ['No Finding'],\n ['No Finding'],\n ['Mass'],\n ['Infiltration', 'Effusion']]"
     },
     "execution_count": 16,
     "metadata": {},
     "output_type": "execute_result"
    }
   ],
   "source": [
    "# How many images are there in each class?\n",
    "def decode_vector(vector):\n",
    "    # return list with 'No Finding' if vector is all zeros or empty or None, else return list of diseases in vector\n",
    "    if not any(vector):\n",
    "        return [\"No Finding\"]\n",
    "    else:\n",
    "        return [unique_diseases[i] for i, x in enumerate(vector) if x == True]\n",
    "\n",
    "[decode_vector(v) for v in data[\"Disease Vector\"].head()]"
   ],
   "metadata": {
    "collapsed": false
   }
  },
  {
   "cell_type": "code",
   "execution_count": 17,
   "outputs": [
    {
     "data": {
      "text/plain": "<Figure size 1000x500 with 1 Axes>",
      "image/png": "[encoded data removed]"
     },
     "metadata": {},
     "output_type": "display_data"
    }
   ],
   "source": [
    "sum = np.zeros(14)\n",
    "\n",
    "for vector in data[\"Disease Vector\"]:\n",
    "    sum += vector.tolist()\n",
    "\n",
    "srt = sorted(enumerate(sum), key=lambda x: x[1], reverse=True)\n",
    "\n",
    "# bar plot x vs y\n",
    "import matplotlib.pyplot as plt\n",
    "import seaborn as sns\n",
    "\n",
    "plt.figure(figsize=(10, 5))\n",
    "sns.barplot(x=[unique_diseases[i] for i, _ in srt], y=[i for _, i in srt])\n",
    "plt.xticks(rotation=90)\n",
    "plt.show()"
   ],
   "metadata": {
    "collapsed": false
   }
  },
  {
   "cell_type": "code",
   "execution_count": 18,
   "outputs": [],
   "source": [
    "all_sorted_cnt = data[\"Disease Vector\"].value_counts()"
   ],
   "metadata": {
    "collapsed": false
   }
  },
  {
   "cell_type": "code",
   "execution_count": 19,
   "outputs": [],
   "source": [
    "IMAGE_COUNT = 500\n",
    "\n",
    "# Define a function get list of diseases in vectors that have count more than img_count\n",
    "def get_diseases_with_count_more_than(img_count=IMAGE_COUNT, max_class_count=1):\n",
    "    return [v for v, count in all_sorted_cnt.items() if count >= img_count and np.sum(v.tolist()) <= max_class_count]\n",
    "\n",
    "def get_diseases_with_count_less_than(img_count=IMAGE_COUNT, max_class_count=1):\n",
    "    return [v for v, count in all_sorted_cnt.items() if count < img_count and np.sum(v.tolist()) <= max_class_count]\n",
    "\n",
    "majority_classes = get_diseases_with_count_more_than(img_count=IMAGE_COUNT)\n",
    "minority_classes = get_diseases_with_count_less_than(img_count=IMAGE_COUNT)"
   ],
   "metadata": {
    "collapsed": false
   }
  },
  {
   "cell_type": "code",
   "execution_count": 20,
   "outputs": [],
   "source": [
    "majority_data = data[data['Disease Vector'].isin(majority_classes)]\n",
    "minority_data = data[data['Disease Vector'].isin(minority_classes)]"
   ],
   "metadata": {
    "collapsed": false
   }
  },
  {
   "cell_type": "code",
   "execution_count": 21,
   "outputs": [
    {
     "data": {
      "text/plain": "(90892, 432)"
     },
     "execution_count": 21,
     "metadata": {},
     "output_type": "execute_result"
    }
   ],
   "source": [
    "len(majority_data), len(minority_data)"
   ],
   "metadata": {
    "collapsed": false
   }
  },
  {
   "cell_type": "code",
   "execution_count": 22,
   "outputs": [],
   "source": [
    "import tensorflow as tf\n",
    "from sklearn.utils import resample\n",
    "\n",
    "np.random.seed(42)\n",
    "\n",
    "# Set the class threshold to 1000\n",
    "# Resample the minority classes\n",
    "balanced_data = pd.DataFrame()\n",
    "for vector in minority_classes:\n",
    "    # Get the data for the current class\n",
    "    class_data = minority_data[minority_data['Disease Vector'] == vector]\n",
    "    # Resample the data\n",
    "    resampled_class_data = resample(class_data, replace=True, n_samples=IMAGE_COUNT)\n",
    "    # Append the resampled data to the resampled minority data\n",
    "    balanced_data = pd.concat([balanced_data, resampled_class_data])\n",
    "\n",
    "# Sample the majority classes\n",
    "for vector in majority_classes:\n",
    "    # Get the data for the current class\n",
    "    class_data = majority_data[majority_data['Disease Vector'] == vector]\n",
    "    # Sample the data\n",
    "    sampled_class_data = class_data.sample(n=IMAGE_COUNT)\n",
    "    # Append the sampled data to the resampled minority data\n",
    "    balanced_data = pd.concat([balanced_data, sampled_class_data])\n",
    "\n",
    "# Shuffle the data\n",
    "balanced_data = balanced_data.sample(frac=1)\n",
    "\n",
    "unique_vectors, counts = np.unique(data[\"Disease Vector\"].values, return_counts=True)"
   ],
   "metadata": {
    "collapsed": false
   }
  },
  {
   "cell_type": "code",
   "execution_count": 23,
   "outputs": [
    {
     "data": {
      "text/plain": "                                    image_path Finding Labels  Follow-up #  \\\n1596   data/images_006/images/00013285_039.png          Edema           39   \n24663  data/images_008/images/00016265_002.png       Fibrosis            2   \n79328  data/images_004/images/00007534_008.png       Effusion            8   \n82395  data/images_003/images/00006025_001.png    Atelectasis            1   \n50238  data/images_012/images/00030679_001.png         Nodule            1   \n\n       Patient ID  Patient Age Patient Gender View Position  Patient is F  \\\n1596        13285           17              M            AP         False   \n24663       16265           53              F            PA          True   \n79328        7534           54              M            AP         False   \n82395        6025           13              M            AP         False   \n50238       30679           62              M            AP         False   \n\n       Position is AP                              Disease Vector  \n1596             True  [0, 0, 0, 0, 1, 0, 0, 0, 0, 0, 0, 0, 0, 0]  \n24663           False  [0, 0, 0, 0, 0, 0, 1, 0, 0, 0, 0, 0, 0, 0]  \n79328            True  [0, 0, 0, 0, 0, 0, 0, 1, 0, 0, 0, 0, 0, 0]  \n82395            True  [1, 0, 0, 0, 0, 0, 0, 0, 0, 0, 0, 0, 0, 0]  \n50238            True  [0, 0, 0, 0, 0, 0, 0, 0, 0, 0, 0, 1, 0, 0]  ",
      "text/html": "<div>\n<style scoped>\n    .dataframe tbody tr th:only-of-type {\n        vertical-align: middle;\n    }\n\n    .dataframe tbody tr th {\n        vertical-align: top;\n    }\n\n    .dataframe thead th {\n        text-align: right;\n    }\n</style>\n<table border=\"1\" class=\"dataframe\">\n  <thead>\n    <tr style=\"text-align: right;\">\n      <th></th>\n      <th>image_path</th>\n      <th>Finding Labels</th>\n      <th>Follow-up #</th>\n      <th>Patient ID</th>\n      <th>Patient Age</th>\n      <th>Patient Gender</th>\n      <th>View Position</th>\n      <th>Patient is F</th>\n      <th>Position is AP</th>\n      <th>Disease Vector</th>\n    </tr>\n  </thead>\n  <tbody>\n    <tr>\n      <th>1596</th>\n      <td>data/images_006/images/00013285_039.png</td>\n      <td>Edema</td>\n      <td>39</td>\n      <td>13285</td>\n      <td>17</td>\n      <td>M</td>\n      <td>AP</td>\n      <td>False</td>\n      <td>True</td>\n      <td>[0, 0, 0, 0, 1, 0, 0, 0, 0, 0, 0, 0, 0, 0]</td>\n    </tr>\n    <tr>\n      <th>24663</th>\n      <td>data/images_008/images/00016265_002.png</td>\n      <td>Fibrosis</td>\n      <td>2</td>\n      <td>16265</td>\n      <td>53</td>\n      <td>F</td>\n      <td>PA</td>\n      <td>True</td>\n      <td>False</td>\n      <td>[0, 0, 0, 0, 0, 0, 1, 0, 0, 0, 0, 0, 0, 0]</td>\n    </tr>\n    <tr>\n      <th>79328</th>\n      <td>data/images_004/images/00007534_008.png</td>\n      <td>Effusion</td>\n      <td>8</td>\n      <td>7534</td>\n      <td>54</td>\n      <td>M</td>\n      <td>AP</td>\n      <td>False</td>\n      <td>True</td>\n      <td>[0, 0, 0, 0, 0, 0, 0, 1, 0, 0, 0, 0, 0, 0]</td>\n    </tr>\n    <tr>\n      <th>82395</th>\n      <td>data/images_003/images/00006025_001.png</td>\n      <td>Atelectasis</td>\n      <td>1</td>\n      <td>6025</td>\n      <td>13</td>\n      <td>M</td>\n      <td>AP</td>\n      <td>False</td>\n      <td>True</td>\n      <td>[1, 0, 0, 0, 0, 0, 0, 0, 0, 0, 0, 0, 0, 0]</td>\n    </tr>\n    <tr>\n      <th>50238</th>\n      <td>data/images_012/images/00030679_001.png</td>\n      <td>Nodule</td>\n      <td>1</td>\n      <td>30679</td>\n      <td>62</td>\n      <td>M</td>\n      <td>AP</td>\n      <td>False</td>\n      <td>True</td>\n      <td>[0, 0, 0, 0, 0, 0, 0, 0, 0, 0, 0, 1, 0, 0]</td>\n    </tr>\n  </tbody>\n</table>\n</div>"
     },
     "execution_count": 23,
     "metadata": {},
     "output_type": "execute_result"
    }
   ],
   "source": [
    "balanced_data.head()"
   ],
   "metadata": {
    "collapsed": false
   }
  },
  {
   "cell_type": "code",
   "execution_count": 24,
   "outputs": [
    {
     "name": "stdout",
     "output_type": "stream",
     "text": [
      "['No Finding'] 500\n",
      "['Hernia'] 500\n",
      "['Mass'] 500\n",
      "['Nodule'] 500\n",
      "['Cardiomegaly'] 500\n",
      "['Pleural_Thickening'] 500\n",
      "['Pneumonia'] 500\n",
      "['Effusion'] 500\n",
      "['Fibrosis'] 500\n",
      "['Emphysema'] 500\n",
      "['Edema'] 500\n",
      "['Pneumothorax'] 500\n",
      "['Infiltration'] 500\n",
      "['Consolidation'] 500\n",
      "['Atelectasis'] 500\n"
     ]
    }
   ],
   "source": [
    "vector, counts = np.unique(balanced_data[\"Disease Vector\"].values, return_counts=True)\n",
    "for v, cnt in sorted(zip(vector, counts), key=lambda x: x[1], reverse=True):\n",
    "    print(decode_vector(v), cnt)"
   ],
   "metadata": {
    "collapsed": false
   }
  },
  {
   "cell_type": "code",
   "execution_count": 25,
   "outputs": [
    {
     "name": "stdout",
     "output_type": "stream",
     "text": [
      "<class 'pandas.core.frame.DataFrame'>\n",
      "Int64Index: 7500 entries, 1596 to 26423\n",
      "Data columns (total 10 columns):\n",
      " #   Column          Non-Null Count  Dtype \n",
      "---  ------          --------------  ----- \n",
      " 0   image_path      7500 non-null   object\n",
      " 1   Finding Labels  7500 non-null   object\n",
      " 2   Follow-up #     7500 non-null   int64 \n",
      " 3   Patient ID      7500 non-null   int64 \n",
      " 4   Patient Age     7500 non-null   int64 \n",
      " 5   Patient Gender  7500 non-null   object\n",
      " 6   View Position   7500 non-null   object\n",
      " 7   Patient is F    7500 non-null   bool  \n",
      " 8   Position is AP  7500 non-null   bool  \n",
      " 9   Disease Vector  7500 non-null   object\n",
      "dtypes: bool(2), int64(3), object(5)\n",
      "memory usage: 542.0+ KB\n"
     ]
    }
   ],
   "source": [
    "balanced_data.info()"
   ],
   "metadata": {
    "collapsed": false
   }
  },
  {
   "cell_type": "code",
   "execution_count": 26,
   "outputs": [
    {
     "name": "stdout",
     "output_type": "stream",
     "text": [
      "<class 'pandas.core.frame.DataFrame'>\n",
      "Int64Index: 7500 entries, 1596 to 26423\n",
      "Data columns (total 10 columns):\n",
      " #   Column          Non-Null Count  Dtype \n",
      "---  ------          --------------  ----- \n",
      " 0   image_path      7500 non-null   object\n",
      " 1   Finding Labels  7500 non-null   object\n",
      " 2   Follow-up #     7500 non-null   int64 \n",
      " 3   Patient ID      7500 non-null   int64 \n",
      " 4   Patient Age     7500 non-null   int64 \n",
      " 5   Patient Gender  7500 non-null   object\n",
      " 6   View Position   7500 non-null   object\n",
      " 7   Patient is F    7500 non-null   bool  \n",
      " 8   Position is AP  7500 non-null   bool  \n",
      " 9   Disease Vector  7500 non-null   object\n",
      "dtypes: bool(2), int64(3), object(5)\n",
      "memory usage: 542.0+ KB\n"
     ]
    }
   ],
   "source": [
    "balanced_data.info()"
   ],
   "metadata": {
    "collapsed": false
   }
  },
  {
   "cell_type": "code",
   "execution_count": 27,
   "outputs": [],
   "source": [
    "# From balanaced_data select 'image_path', 'Follow-up #', 'Patient ID', 'Patient Age', 'Patient is F', 'Position is AP' and 'Disease Vector' columns\n",
    "\n",
    "selected_data = balanced_data[['image_path', 'Follow-up #', 'Patient ID', 'Patient Age', 'Patient is F', 'Position is AP', 'Disease Vector']].copy()"
   ],
   "metadata": {
    "collapsed": false
   }
  },
  {
   "cell_type": "code",
   "execution_count": 28,
   "outputs": [],
   "source": [
    "# standardize the data except the image_path column\n",
    "from sklearn.preprocessing import MinMaxScaler\n",
    "\n",
    "scaler = MinMaxScaler()\n",
    "selected_data.iloc[:, 1:6] = scaler.fit_transform(selected_data.iloc[:, 1:6])"
   ],
   "metadata": {
    "collapsed": false
   }
  },
  {
   "cell_type": "code",
   "execution_count": 29,
   "outputs": [
    {
     "name": "stdout",
     "output_type": "stream",
     "text": [
      "<class 'pandas.core.frame.DataFrame'>\n",
      "Int64Index: 7500 entries, 1596 to 26423\n",
      "Data columns (total 7 columns):\n",
      " #   Column          Non-Null Count  Dtype  \n",
      "---  ------          --------------  -----  \n",
      " 0   image_path      7500 non-null   object \n",
      " 1   Follow-up #     7500 non-null   float64\n",
      " 2   Patient ID      7500 non-null   float64\n",
      " 3   Patient Age     7500 non-null   float64\n",
      " 4   Patient is F    7500 non-null   float64\n",
      " 5   Position is AP  7500 non-null   float64\n",
      " 6   Disease Vector  7500 non-null   object \n",
      "dtypes: float64(5), object(2)\n",
      "memory usage: 468.8+ KB\n"
     ]
    }
   ],
   "source": [
    "selected_data.info()"
   ],
   "metadata": {
    "collapsed": false
   }
  },
  {
   "cell_type": "code",
   "execution_count": 30,
   "outputs": [
    {
     "data": {
      "text/plain": "                                    image_path  Follow-up #  Patient ID  \\\n1596   data/images_006/images/00013285_039.png     0.214286    0.431509   \n24663  data/images_008/images/00016265_002.png     0.010989    0.528309   \n79328  data/images_004/images/00007534_008.png     0.043956    0.244697   \n82395  data/images_003/images/00006025_001.png     0.005495    0.195680   \n50238  data/images_012/images/00030679_001.png     0.005495    0.996524   \n\n       Patient Age  Patient is F  Position is AP  \\\n1596      0.036408           0.0             1.0   \n24663     0.123786           1.0             0.0   \n79328     0.126214           0.0             1.0   \n82395     0.026699           0.0             1.0   \n50238     0.145631           0.0             1.0   \n\n                                   Disease Vector  \n1596   [0, 0, 0, 0, 1, 0, 0, 0, 0, 0, 0, 0, 0, 0]  \n24663  [0, 0, 0, 0, 0, 0, 1, 0, 0, 0, 0, 0, 0, 0]  \n79328  [0, 0, 0, 0, 0, 0, 0, 1, 0, 0, 0, 0, 0, 0]  \n82395  [1, 0, 0, 0, 0, 0, 0, 0, 0, 0, 0, 0, 0, 0]  \n50238  [0, 0, 0, 0, 0, 0, 0, 0, 0, 0, 0, 1, 0, 0]  ",
      "text/html": "<div>\n<style scoped>\n    .dataframe tbody tr th:only-of-type {\n        vertical-align: middle;\n    }\n\n    .dataframe tbody tr th {\n        vertical-align: top;\n    }\n\n    .dataframe thead th {\n        text-align: right;\n    }\n</style>\n<table border=\"1\" class=\"dataframe\">\n  <thead>\n    <tr style=\"text-align: right;\">\n      <th></th>\n      <th>image_path</th>\n      <th>Follow-up #</th>\n      <th>Patient ID</th>\n      <th>Patient Age</th>\n      <th>Patient is F</th>\n      <th>Position is AP</th>\n      <th>Disease Vector</th>\n    </tr>\n  </thead>\n  <tbody>\n    <tr>\n      <th>1596</th>\n      <td>data/images_006/images/00013285_039.png</td>\n      <td>0.214286</td>\n      <td>0.431509</td>\n      <td>0.036408</td>\n      <td>0.0</td>\n      <td>1.0</td>\n      <td>[0, 0, 0, 0, 1, 0, 0, 0, 0, 0, 0, 0, 0, 0]</td>\n    </tr>\n    <tr>\n      <th>24663</th>\n      <td>data/images_008/images/00016265_002.png</td>\n      <td>0.010989</td>\n      <td>0.528309</td>\n      <td>0.123786</td>\n      <td>1.0</td>\n      <td>0.0</td>\n      <td>[0, 0, 0, 0, 0, 0, 1, 0, 0, 0, 0, 0, 0, 0]</td>\n    </tr>\n    <tr>\n      <th>79328</th>\n      <td>data/images_004/images/00007534_008.png</td>\n      <td>0.043956</td>\n      <td>0.244697</td>\n      <td>0.126214</td>\n      <td>0.0</td>\n      <td>1.0</td>\n      <td>[0, 0, 0, 0, 0, 0, 0, 1, 0, 0, 0, 0, 0, 0]</td>\n    </tr>\n    <tr>\n      <th>82395</th>\n      <td>data/images_003/images/00006025_001.png</td>\n      <td>0.005495</td>\n      <td>0.195680</td>\n      <td>0.026699</td>\n      <td>0.0</td>\n      <td>1.0</td>\n      <td>[1, 0, 0, 0, 0, 0, 0, 0, 0, 0, 0, 0, 0, 0]</td>\n    </tr>\n    <tr>\n      <th>50238</th>\n      <td>data/images_012/images/00030679_001.png</td>\n      <td>0.005495</td>\n      <td>0.996524</td>\n      <td>0.145631</td>\n      <td>0.0</td>\n      <td>1.0</td>\n      <td>[0, 0, 0, 0, 0, 0, 0, 0, 0, 0, 0, 1, 0, 0]</td>\n    </tr>\n  </tbody>\n</table>\n</div>"
     },
     "execution_count": 30,
     "metadata": {},
     "output_type": "execute_result"
    }
   ],
   "source": [
    "selected_data.head()"
   ],
   "metadata": {
    "collapsed": false
   }
  },
  {
   "cell_type": "code",
   "execution_count": 31,
   "outputs": [],
   "source": [
    "# Split data into train and test sets\n",
    "\n",
    "X = selected_data.iloc[:, 0:6]\n",
    "y = selected_data.iloc[:, 6].map(lambda x: np.array(x.tolist(), dtype=np.float32))"
   ],
   "metadata": {
    "collapsed": false
   }
  },
  {
   "cell_type": "code",
   "execution_count": 32,
   "outputs": [
    {
     "data": {
      "text/plain": "                                    image_path  Follow-up #  Patient ID  \\\n1596   data/images_006/images/00013285_039.png     0.214286    0.431509   \n24663  data/images_008/images/00016265_002.png     0.010989    0.528309   \n79328  data/images_004/images/00007534_008.png     0.043956    0.244697   \n82395  data/images_003/images/00006025_001.png     0.005495    0.195680   \n50238  data/images_012/images/00030679_001.png     0.005495    0.996524   \n\n       Patient Age  Patient is F  Position is AP  \n1596      0.036408           0.0             1.0  \n24663     0.123786           1.0             0.0  \n79328     0.126214           0.0             1.0  \n82395     0.026699           0.0             1.0  \n50238     0.145631           0.0             1.0  ",
      "text/html": "<div>\n<style scoped>\n    .dataframe tbody tr th:only-of-type {\n        vertical-align: middle;\n    }\n\n    .dataframe tbody tr th {\n        vertical-align: top;\n    }\n\n    .dataframe thead th {\n        text-align: right;\n    }\n</style>\n<table border=\"1\" class=\"dataframe\">\n  <thead>\n    <tr style=\"text-align: right;\">\n      <th></th>\n      <th>image_path</th>\n      <th>Follow-up #</th>\n      <th>Patient ID</th>\n      <th>Patient Age</th>\n      <th>Patient is F</th>\n      <th>Position is AP</th>\n    </tr>\n  </thead>\n  <tbody>\n    <tr>\n      <th>1596</th>\n      <td>data/images_006/images/00013285_039.png</td>\n      <td>0.214286</td>\n      <td>0.431509</td>\n      <td>0.036408</td>\n      <td>0.0</td>\n      <td>1.0</td>\n    </tr>\n    <tr>\n      <th>24663</th>\n      <td>data/images_008/images/00016265_002.png</td>\n      <td>0.010989</td>\n      <td>0.528309</td>\n      <td>0.123786</td>\n      <td>1.0</td>\n      <td>0.0</td>\n    </tr>\n    <tr>\n      <th>79328</th>\n      <td>data/images_004/images/00007534_008.png</td>\n      <td>0.043956</td>\n      <td>0.244697</td>\n      <td>0.126214</td>\n      <td>0.0</td>\n      <td>1.0</td>\n    </tr>\n    <tr>\n      <th>82395</th>\n      <td>data/images_003/images/00006025_001.png</td>\n      <td>0.005495</td>\n      <td>0.195680</td>\n      <td>0.026699</td>\n      <td>0.0</td>\n      <td>1.0</td>\n    </tr>\n    <tr>\n      <th>50238</th>\n      <td>data/images_012/images/00030679_001.png</td>\n      <td>0.005495</td>\n      <td>0.996524</td>\n      <td>0.145631</td>\n      <td>0.0</td>\n      <td>1.0</td>\n    </tr>\n  </tbody>\n</table>\n</div>"
     },
     "execution_count": 32,
     "metadata": {},
     "output_type": "execute_result"
    }
   ],
   "source": [
    "X.head()"
   ],
   "metadata": {
    "collapsed": false
   }
  },
  {
   "cell_type": "code",
   "execution_count": 33,
   "outputs": [
    {
     "data": {
      "text/plain": "<Figure size 1400x1000 with 2 Axes>",
      "image/png": "[encoded data removed]"
     },
     "metadata": {},
     "output_type": "display_data"
    }
   ],
   "source": [
    "# Correlation matrix of image_paths\n",
    "\n",
    "plt.figure(figsize=(14, 10))\n",
    "sns.heatmap(data.iloc[:, 1:].corr(numeric_only=True),\n",
    "            annot=True,\n",
    "            fmt=\".2f\",\n",
    "            cmap=\"coolwarm\")\n",
    "plt.show();"
   ],
   "metadata": {
    "collapsed": false
   }
  },
  {
   "cell_type": "code",
   "execution_count": 34,
   "outputs": [],
   "source": [
    "X = X.iloc[:, 0]"
   ],
   "metadata": {
    "collapsed": false
   }
  },
  {
   "cell_type": "code",
   "execution_count": 35,
   "outputs": [
    {
     "data": {
      "text/plain": "1596     data/images_006/images/00013285_039.png\n24663    data/images_008/images/00016265_002.png\n79328    data/images_004/images/00007534_008.png\n82395    data/images_003/images/00006025_001.png\n50238    data/images_012/images/00030679_001.png\nName: image_path, dtype: object"
     },
     "execution_count": 35,
     "metadata": {},
     "output_type": "execute_result"
    }
   ],
   "source": [
    "X.head()"
   ],
   "metadata": {
    "collapsed": false
   }
  },
  {
   "cell_type": "code",
   "execution_count": 36,
   "outputs": [
    {
     "data": {
      "text/plain": "(6000, 1500, 6000, 1500)"
     },
     "execution_count": 36,
     "metadata": {},
     "output_type": "execute_result"
    }
   ],
   "source": [
    "# Split data into train and test sets\n",
    "from sklearn.model_selection import train_test_split\n",
    "\n",
    "X_train, X_valid, y_train, y_valid = train_test_split(X, y,\n",
    "                                                      test_size=0.2,\n",
    "                                                      random_state=42)\n",
    "\n",
    "len(X_train), len(X_valid), len(y_train), len(y_valid)"
   ],
   "metadata": {
    "collapsed": false
   }
  },
  {
   "cell_type": "markdown",
   "source": [
    "### Preprocessing images\n",
    "\n",
    "To preprocess images into Tensors one's going to write a function which does a few things:\n",
    "1. Take an image filepath as input\n",
    "2. Use TensorFlow to read the file and save it to a variable, `image`\n",
    "3. Turn our `image` (a jpg) into Tensors\n",
    "4. Normalize our image (convert RGB values from 0-255 to 0-1).\n",
    "5. Resize the `image` to be a shape of (224, 224)\n",
    "6. Return the modified `image`"
   ],
   "metadata": {
    "collapsed": false
   }
  },
  {
   "cell_type": "code",
   "execution_count": 37,
   "outputs": [],
   "source": [
    "IMG_SIZE = 224\n",
    "\n",
    "import tensorflow as tf\n",
    "\n",
    "def process_image(image_path, img_size=IMG_SIZE):\n",
    "    \"\"\"\n",
    "    Create a function to preprocess images using tensorflow\n",
    "    Load grayscale image with image_path as Tensor\n",
    "    Turn image into Tensor\n",
    "    Convert to RGB\n",
    "    Convert to 0-255 to 0-1\n",
    "    Resize image to [img_size, img_size]\n",
    "    :param image_path: Image filepath\n",
    "    :param img_size: Image size\n",
    "    :return: Preprocessed image\n",
    "    \"\"\"\n",
    "    # Read in an image file using\n",
    "    img =tf.io.read_file(image_path)\n",
    "    # decode grayscale png\n",
    "    img = tf.image.decode_png(img, channels=1)\n",
    "    # convert grayscale to rgb\n",
    "    img = tf.image.grayscale_to_rgb(img)\n",
    "    # standardize image values\n",
    "    img = tf.image.convert_image_dtype(img, tf.float32)\n",
    "    # resize image\n",
    "    img = tf.image.resize(img, size=[img_size, img_size])\n",
    "\n",
    "    return img"
   ],
   "metadata": {
    "collapsed": false
   }
  },
  {
   "cell_type": "code",
   "execution_count": 40,
   "outputs": [
    {
     "data": {
      "text/plain": "tensorflow.python.framework.ops.EagerTensor"
     },
     "execution_count": 40,
     "metadata": {},
     "output_type": "execute_result"
    }
   ],
   "source": [
    "image = process_image(X_train.iloc[3])\n",
    "type(image)"
   ],
   "metadata": {
    "collapsed": false
   }
  },
  {
   "cell_type": "code",
   "execution_count": 38,
   "outputs": [
    {
     "name": "stdout",
     "output_type": "stream",
     "text": [
      "Metal device set to: Apple M1 Pro\n"
     ]
    },
    {
     "name": "stderr",
     "output_type": "stream",
     "text": [
      "2023-02-15 18:06:46.585547: I tensorflow/core/common_runtime/pluggable_device/pluggable_device_factory.cc:306] Could not identify NUMA node of platform GPU ID 0, defaulting to 0. Your kernel may not have been built with NUMA support.\n",
      "2023-02-15 18:06:46.585579: I tensorflow/core/common_runtime/pluggable_device/pluggable_device_factory.cc:272] Created TensorFlow device (/job:localhost/replica:0/task:0/device:GPU:0 with 0 MB memory) -> physical PluggableDevice (device: 0, name: METAL, pci bus id: <undefined>)\n"
     ]
    },
    {
     "data": {
      "text/plain": "<matplotlib.image.AxesImage at 0x164914340>"
     },
     "execution_count": 38,
     "metadata": {},
     "output_type": "execute_result"
    },
    {
     "data": {
      "text/plain": "<Figure size 640x480 with 1 Axes>",
      "image/png": "[encoded data removed]"
     },
     "metadata": {},
     "output_type": "display_data"
    }
   ],
   "source": [
    "# Let's test function with a random image\n",
    "image = process_image(X_train.iloc[3]);\n",
    "# display image\n",
    "plt.imshow(image)"
   ],
   "metadata": {
    "collapsed": false
   }
  },
  {
   "cell_type": "markdown",
   "source": [
    "### Creating data batches\n",
    "\n",
    "To create data batches, one's going to use the `tf.data` module which can help speed up our modelling process.\n",
    "\n",
    "Since we're dealing with image data, it's a good idea to read our data in order. There are two main methods we can use to do this:\n",
    "\n",
    "* `tf.data.Dataset.from_tensor_slices()` - Reads in data from slices (in our case, slices of an array of image paths and labels)."
   ],
   "metadata": {
    "collapsed": false
   }
  },
  {
   "cell_type": "code",
   "execution_count": 38,
   "outputs": [
    {
     "data": {
      "text/plain": "(<tf.Tensor: shape=(224, 224, 3), dtype=float32, numpy=\n array([[[0.03343338, 0.03343338, 0.03343338],\n         [0.01622649, 0.01622649, 0.01622649],\n         [0.01568628, 0.01568628, 0.01568628],\n         ...,\n         [0.76952773, 0.76952773, 0.76952773],\n         [0.791197  , 0.791197  , 0.791197  ],\n         [0.8034831 , 0.8034831 , 0.8034831 ]],\n \n        [[0.0185074 , 0.0185074 , 0.0185074 ],\n         [0.01568628, 0.01568628, 0.01568628],\n         [0.01558624, 0.01558624, 0.01558624],\n         ...,\n         [0.74471766, 0.74471766, 0.74471766],\n         [0.74599844, 0.74599844, 0.74599844],\n         [0.7599467 , 0.7599467 , 0.7599467 ]],\n \n        [[0.01568628, 0.01568628, 0.01568628],\n         [0.01186475, 0.01186475, 0.01186475],\n         [0.01568628, 0.01568628, 0.01568628],\n         ...,\n         [0.7445577 , 0.7445577 , 0.7445577 ],\n         [0.7552823 , 0.7552823 , 0.7552823 ],\n         [0.7602866 , 0.7602866 , 0.7602866 ]],\n \n        ...,\n \n        [[0.19215688, 0.19215688, 0.19215688],\n         [0.2016001 , 0.2016001 , 0.2016001 ],\n         [0.20426176, 0.20426176, 0.20426176],\n         ...,\n         [0.6862545 , 0.6862545 , 0.6862545 ],\n         [0.7129852 , 0.7129852 , 0.7129852 ],\n         [0.73183477, 0.73183477, 0.73183477]],\n \n        [[0.21364525, 0.21364525, 0.21364525],\n         [0.19467789, 0.19467789, 0.19467789],\n         [0.19561805, 0.19561805, 0.19561805],\n         ...,\n         [0.66964775, 0.66964775, 0.66964775],\n         [0.69059634, 0.69059634, 0.69059634],\n         [0.72527176, 0.72527176, 0.72527176]],\n \n        [[0.17488964, 0.17488964, 0.17488964],\n         [0.19133583, 0.19133583, 0.19133583],\n         [0.1868342 , 0.1868342 , 0.1868342 ],\n         ...,\n         [0.6536224 , 0.6536224 , 0.6536224 ],\n         [0.68097365, 0.68097365, 0.68097365],\n         [0.70496666, 0.70496666, 0.70496666]]], dtype=float32)>,\n array([0., 0., 0., 1., 0., 0., 0., 0., 0., 0., 0., 0., 0., 0.],\n       dtype=float32))"
     },
     "execution_count": 38,
     "metadata": {},
     "output_type": "execute_result"
    }
   ],
   "source": [
    "def get_image_label(image_path, label):\n",
    "    \"\"\"\n",
    "    Get image and label\n",
    "    :param image_path: Image filepath\n",
    "    :param label: Image label\n",
    "    :return: Image and label\n",
    "    \"\"\"\n",
    "    image = process_image(image_path)\n",
    "    return image, label\n",
    "\n",
    "path = X_train.values[0]\n",
    "label = y_train.values[0]\n",
    "\n",
    "tpl = get_image_label(path, label)\n",
    "tpl"
   ],
   "metadata": {
    "collapsed": false
   }
  },
  {
   "cell_type": "code",
   "execution_count": 39,
   "outputs": [],
   "source": [
    "# Define batch size\n",
    "BATCH_SIZE = 256\n",
    "def create_data_batches(X, y=None, batch_size=BATCH_SIZE, valid_data=False, test_data=False):\n",
    "    \"\"\"\n",
    "    Creates batches of data out of image (X) and label (y) pairs.\n",
    "    Shuffles the data if it's training data but doesn't shuffle if it's validation data.\n",
    "    Also accepts test data as input (no labels).\n",
    "    \"\"\"\n",
    "    # If the data is a test dataset, we probably don't have labels\n",
    "\n",
    "    y = list(y)\n",
    "\n",
    "    if test_data:\n",
    "        print(\"Creating test data batches...\")\n",
    "        data = tf.data.Dataset.from_tensor_slices((tf.constant(X))) # only filepaths (no labels)\n",
    "        data_batch = data.map(process_image).batch(batch_size)\n",
    "        return data_batch\n",
    "\n",
    "    # If the data is a valid dataset, we don't need to shuffle it\n",
    "    elif valid_data:\n",
    "        print(\"Creating validation data batches...\")\n",
    "        data = tf.data.Dataset.from_tensor_slices((tf.constant(X), # filepaths\n",
    "                                                   tf.constant(y))) # labels\n",
    "        data_batch = data.map(get_image_label).batch(batch_size)\n",
    "        return data_batch\n",
    "\n",
    "    else:\n",
    "        # If the data is a training dataset, we want to shuffle it\n",
    "        print(\"Creating training data batches...\")\n",
    "        # Turn filepaths and labels into Tensors\n",
    "        data = tf.data.Dataset.from_tensor_slices((tf.constant(X), # filepaths\n",
    "                                                   tf.constant(y))) # labels\n",
    "        # Shuffling pathname and labels before mapping image processor function is faster than shuffling images\n",
    "        data = data.shuffle(buffer_size=len(X))\n",
    "\n",
    "        # Create (image, label) tuples (this also turns the image path into a preprocessed image)\n",
    "        data = data.map(get_image_label)\n",
    "\n",
    "        # Turn the data into batches\n",
    "        data_batch = data.batch(batch_size)\n",
    "        return data_batch\n"
   ],
   "metadata": {
    "collapsed": false
   }
  },
  {
   "cell_type": "code",
   "execution_count": 40,
   "outputs": [
    {
     "name": "stdout",
     "output_type": "stream",
     "text": [
      "Creating training data batches...\n",
      "Creating validation data batches...\n"
     ]
    }
   ],
   "source": [
    "# Create training and validation data batches\n",
    "train_data = create_data_batches(X_train, y_train)\n",
    "valid_data = create_data_batches(X_valid, y_valid, valid_data=True)"
   ],
   "metadata": {
    "collapsed": false
   }
  },
  {
   "cell_type": "code",
   "execution_count": 41,
   "outputs": [
    {
     "data": {
      "text/plain": "tensorflow.python.data.ops.dataset_ops.BatchDataset"
     },
     "execution_count": 41,
     "metadata": {},
     "output_type": "execute_result"
    }
   ],
   "source": [
    "type(train_data)"
   ],
   "metadata": {
    "collapsed": false
   }
  },
  {
   "cell_type": "code",
   "execution_count": 68,
   "outputs": [
    {
     "data": {
      "text/plain": "((TensorSpec(shape=(None, 224, 224, 3), dtype=tf.float32, name=None),\n  TensorSpec(shape=(None, 14), dtype=tf.float32, name=None)),\n (TensorSpec(shape=(None, 224, 224, 3), dtype=tf.float32, name=None),\n  TensorSpec(shape=(None, 14), dtype=tf.float32, name=None)))"
     },
     "execution_count": 68,
     "metadata": {},
     "output_type": "execute_result"
    }
   ],
   "source": [
    "# Check out the different attributes of our data batches\n",
    "train_data.element_spec, valid_data.element_spec"
   ],
   "metadata": {
    "collapsed": false
   }
  },
  {
   "cell_type": "markdown",
   "source": [
    "### Visualizing training data batches\n",
    "\n",
    "To visualize training data batches, one's going to write a function which does a few things:\n",
    "1. Take a batch of images and labels from a training dataset as input\n",
    "2. Unpack the batch into images and labels\n",
    "3. Plot the images and labels in a grid\n",
    "4. Return the plotted grid\n",
    "5. Plot a single image and label from a training dataset\n",
    "6. Return the plotted image and label\n",
    "7. Plot a batch of images and labels from a training dataset\n",
    "8. Return the plotted grid\n",
    "9. Plot a batch of images and labels from a validation dataset\n",
    "10. Return the plotted grid\n",
    "11. Plot a batch of images and labels from a test dataset\n",
    "12. Return the plotted grid"
   ],
   "metadata": {
    "collapsed": false
   }
  },
  {
   "cell_type": "code",
   "execution_count": 69,
   "outputs": [],
   "source": [
    "def get_conditions(label):\n",
    "    \"\"\"\n",
    "    Get conditions from labels\n",
    "    :param label:\n",
    "    :return: Conditions string\n",
    "    \"\"\"\n",
    "    return \"|\".join(decode_vector(label))\n",
    "\n",
    "import matplotlib.pyplot as plt\n",
    "import numpy as np\n",
    "\n",
    "# Create a function for viewing images in a data batch\n",
    "def show_n_images(images, labels, n=25):\n",
    "    return\n",
    "    \"\"\"\n",
    "    Displays a plot of images with their labels.\n",
    "    :param images: Image\n",
    "    :param labels: Labels\n",
    "    :param n: Number of images to display\n",
    "    :return: Plot of images and labels\n",
    "    \"\"\"\n",
    "    # Create a figure with subplots\n",
    "    x = int(np.ceil(n / 5))\n",
    "    plt.figure(figsize=(10, int(10*n/25)))\n",
    "    # Loop through n (for displaying 25 images)\n",
    "    for i in range(n):\n",
    "        # Create subplots (x rows, 5 columns)\n",
    "        ax = plt.subplot(x, 5, i+1)\n",
    "        # Display an image\n",
    "        plt.imshow(images[i])\n",
    "        # Add the image label as the title\n",
    "        title = get_conditions(labels[i])\n",
    "        plt.title(title, fontsize=8)\n",
    "        # Turn the grid lines off\n",
    "        plt.axis(\"off\")\n",
    "        plt.tight_layout()\n",
    "    plt.show()\n",
    "# Now let's visualize a batch of training data\n",
    "images, labels = next(train_data.as_numpy_iterator())\n",
    "show_at_once = min(BATCH_SIZE, 25)\n",
    "\n",
    "\n",
    "# images, labels = next(train_data.as_numpy_iterator())\n",
    "# show_n_images(images, labels, show_at_once);"
   ],
   "metadata": {
    "collapsed": false
   }
  },
  {
   "cell_type": "code",
   "execution_count": 70,
   "outputs": [],
   "source": [
    "# Now let's visualize our validation set\n",
    "# val_images, val_labels = next(valid_data.as_numpy_iterator())\n",
    "# show_n_images(val_images, val_labels, show_at_once);"
   ],
   "metadata": {
    "collapsed": false
   }
  },
  {
   "cell_type": "code",
   "execution_count": null,
   "outputs": [],
   "source": [
    "INPUT_SHAPE = [None, IMG_SIZE, IMG_SIZE, 3]\n",
    "OUTPUT_SHAPE = len(unique_diseases)\n",
    "# best pretrained model for chest x-ray images 14-classes classification\n",
    "MODEL_URL = \"https://tfhub.dev/google/imagenet/resnet_v2_152/classification/5\"\n",
    "# LR = 0.001\n",
    "LR=0.0004\n",
    "# MODEL_URL = \"https://tfhub.dev/google/imagenet/inception_v3/classification/5\"\n",
    "# LR = 0.04"
   ],
   "metadata": {
    "collapsed": false
   }
  },
  {
   "cell_type": "code",
   "execution_count": null,
   "outputs": [],
   "source": [
    "import tensorflow as tf\n",
    "import tensorflow_hub as hub\n",
    "\n",
    "# Create a function which builds a Keras model\n",
    "def create_model(input_shape=INPUT_SHAPE, output_shape=OUTPUT_SHAPE, model_url=MODEL_URL, hidd  en_layer=128):\n",
    "\n",
    "    # Download the pretrained model and save it as a Keras layer\n",
    "    keras_layer = hub.KerasLayer(model_url,\n",
    "                                 trainable=False, # freeze the already learned patterns\n",
    "                                 name=\"inputs\", # name the layer\n",
    "                                 input_shape=input_shape[1:]) # input shape to the model\n",
    "\n",
    "    model = tf.keras.Sequential([\n",
    "        keras_layer,\n",
    "        # tf.keras.layers.Dense(hidden_layer, activation=\"relu\"),\n",
    "        tf.keras.layers.Dense(output_shape, activation=\"sigmoid\", name=\"outputs\")\n",
    "    ])\n",
    "\n",
    "    model.compile(\n",
    "        loss='binary_crossentropy',\n",
    "        optimizer=tf.keras.optimizers.legacy.Adam(learning_rate=LR), # updated optimizer to the latest version\n",
    "        metrics=['accuracy']\n",
    "    )\n",
    "\n",
    "    model.build(input_shape)\n",
    "\n",
    "    return model\n",
    "\n"
   ],
   "metadata": {
    "collapsed": false
   }
  },
  {
   "cell_type": "markdown",
   "source": [
    "### Model checkpoint, tensorboard saving logs, early stopping callback"
   ],
   "metadata": {
    "collapsed": false
   }
  },
  {
   "cell_type": "code",
   "execution_count": 78,
   "outputs": [
    {
     "name": "stdout",
     "output_type": "stream",
     "text": [
      "The tensorboard extension is already loaded. To reload it, use:\n",
      "  %reload_ext tensorboard\n"
     ]
    }
   ],
   "source": [
    "# Load TensorBoard notebook extension\n",
    "%load_ext tensorboard\n",
    "\n",
    "import datetime\n",
    "\n",
    "from tensorflow.keras.callbacks import ReduceLROnPlateau\n",
    "\n",
    "# scheduler\n",
    "lr_scheduler = ReduceLROnPlateau(monitor='val_loss', factor=0.2,\n",
    "                                 patience=5, min_lr=1e-5, min_delta=0.001, mode='min')\n",
    "\n",
    "# Create a model checkpoint callback which saves the model's weights only\n",
    "checkpoint_path = \"model_checkpoints/cp.ckpt\"\n",
    "model_checkpoint = tf.keras.callbacks.ModelCheckpoint(\n",
    "    checkpoint_path,\n",
    "    monitor=\"val_loss\",\n",
    "    save_weights_only=True,\n",
    "    save_best_only=True,\n",
    "    save_freq=5,  # save weights after every 5 epochs\n",
    "    verbose=1,\n",
    "    mode=\"min\",\n",
    "    save_format=\"h5\"\n",
    ")\n",
    "\n",
    "\n",
    "# Create a model saving logs callback for tensorboard\n",
    "log_dir = \"data/logs/\" + datetime.datetime.now().strftime(\"%Y%m%d-%H%M%S\")\n",
    "tensorboard_callback = tf.keras.callbacks.TensorBoard(log_dir=log_dir,\n",
    "                                                      histogram_freq=2)\n",
    "\n",
    "# Create early stopping callback model = fit_model();\n",
    "# loss,categorical_accuracy,val_loss,val_categorical_accuracy\n",
    "early_stopping = tf.keras.callbacks.EarlyStopping(monitor='val_loss',\n",
    "                                                  patience=3,\n",
    "                                                  start_from_epoch=3)\n",
    "\n"
   ],
   "metadata": {
    "collapsed": false
   }
  },
  {
   "cell_type": "markdown",
   "source": [
    "### Training model (on a subset of data)\n",
    "\n",
    "We'll train our model on a subset of data (IMAGE_COUNT=1000) to see how it performs."
   ],
   "metadata": {
    "collapsed": false
   }
  },
  {
   "cell_type": "code",
   "execution_count": 79,
   "outputs": [],
   "source": [
    "# Setting NUM_EPOCHS\n",
    "NUM_EPOCHS = 100"
   ],
   "metadata": {
    "collapsed": false
   }
  },
  {
   "cell_type": "code",
   "execution_count": 80,
   "outputs": [
    {
     "name": "stdout",
     "output_type": "stream",
     "text": [
      "GPU available (YAY!)\n"
     ]
    }
   ],
   "source": [
    "# Check which GPU is available\n",
    "print(\"GPU\", \"available (YAY!)\" if tf.config.list_physical_devices(\"GPU\") else \"not available :(\")"
   ],
   "metadata": {
    "collapsed": false
   }
  },
  {
   "cell_type": "markdown",
   "source": [
    "Let's create functions to trains our model\n",
    "\n",
    "1. Call create_model()\n",
    "2. Set our callbacks: early_stopping / tensorboard_callback / model_checkpoint\n",
    "3. Fit the model on the subset of the training data\n",
    "4. Returns the model"
   ],
   "metadata": {
    "collapsed": false
   }
  },
  {
   "cell_type": "code",
   "execution_count": 81,
   "outputs": [],
   "source": [
    "# Build a function to train and return a trained model\n",
    "def fit_model():\n",
    "    \"\"\"\n",
    "    Let’s create functions to trains our model\n",
    "    Call create_model()\n",
    "    Set our callbacks: early_stopping / tensorboard_callback / model_checkpoint\n",
    "    Fit the model on the subset of the training data\n",
    "\n",
    "    :return: Returns the model\n",
    "    \"\"\"\n",
    "\n",
    "    # Create the model\n",
    "    model = create_model()\n",
    "\n",
    "    print(\"Model summary:\", model.summary())\n",
    "\n",
    "    # Fit the model to the data passing it the callbacks we created\n",
    "    model.fit(train_data,\n",
    "              epochs=NUM_EPOCHS,\n",
    "              validation_data=valid_data,\n",
    "              validation_freq=1,\n",
    "              callbacks=[early_stopping, lr_scheduler, tensorboard_callback])\n",
    "\n",
    "    return model"
   ],
   "metadata": {
    "collapsed": false
   }
  },
  {
   "cell_type": "code",
   "execution_count": 83,
   "outputs": [
    {
     "name": "stdout",
     "output_type": "stream",
     "text": [
      "Model: \"sequential_3\"\n",
      "_________________________________________________________________\n",
      " Layer (type)                Output Shape              Param #   \n",
      "=================================================================\n",
      " inputs (KerasLayer)         (None, 2048)              23564800  \n",
      "                                                                 \n",
      " outputs (Dense)             (None, 14)                28686     \n",
      "                                                                 \n",
      "=================================================================\n",
      "Total params: 23,593,486\n",
      "Trainable params: 28,686\n",
      "Non-trainable params: 23,564,800\n",
      "_________________________________________________________________\n",
      "Model summary: None\n",
      "Epoch 1/100\n"
     ]
    },
    {
     "name": "stderr",
     "output_type": "stream",
     "text": [
      "2023-02-13 15:48:23.405717: I tensorflow/core/grappler/optimizers/custom_graph_optimizer_registry.cc:114] Plugin optimizer for device_type GPU is enabled.\n"
     ]
    },
    {
     "name": "stdout",
     "output_type": "stream",
     "text": [
      "24/24 [==============================] - ETA: 0s - loss: 0.3810 - accuracy: 0.0618"
     ]
    },
    {
     "name": "stderr",
     "output_type": "stream",
     "text": [
      "2023-02-13 15:48:47.768443: I tensorflow/core/grappler/optimizers/custom_graph_optimizer_registry.cc:114] Plugin optimizer for device_type GPU is enabled.\n"
     ]
    },
    {
     "name": "stdout",
     "output_type": "stream",
     "text": [
      "24/24 [==============================] - 34s 1s/step - loss: 0.3810 - accuracy: 0.0618 - val_loss: 0.2716 - val_accuracy: 0.0713 - lr: 4.0000e-04\n",
      "Epoch 2/100\n",
      "24/24 [==============================] - 30s 1s/step - loss: 0.2686 - accuracy: 0.0957 - val_loss: 0.2608 - val_accuracy: 0.0967 - lr: 4.0000e-04\n",
      "Epoch 3/100\n",
      "24/24 [==============================] - 31s 1s/step - loss: 0.2561 - accuracy: 0.1050 - val_loss: 0.2523 - val_accuracy: 0.1047 - lr: 4.0000e-04\n",
      "Epoch 4/100\n",
      "24/24 [==============================] - 30s 1s/step - loss: 0.2494 - accuracy: 0.1238 - val_loss: 0.2474 - val_accuracy: 0.1240 - lr: 4.0000e-04\n",
      "Epoch 5/100\n",
      "24/24 [==============================] - 31s 1s/step - loss: 0.2443 - accuracy: 0.1405 - val_loss: 0.2436 - val_accuracy: 0.1333 - lr: 4.0000e-04\n",
      "Epoch 6/100\n",
      "24/24 [==============================] - 30s 1s/step - loss: 0.2400 - accuracy: 0.1577 - val_loss: 0.2406 - val_accuracy: 0.1480 - lr: 4.0000e-04\n",
      "Epoch 7/100\n",
      "24/24 [==============================] - 32s 1s/step - loss: 0.2363 - accuracy: 0.1770 - val_loss: 0.2378 - val_accuracy: 0.1620 - lr: 4.0000e-04\n",
      "Epoch 8/100\n",
      "24/24 [==============================] - 30s 1s/step - loss: 0.2331 - accuracy: 0.1880 - val_loss: 0.2359 - val_accuracy: 0.1680 - lr: 4.0000e-04\n",
      "Epoch 9/100\n",
      "24/24 [==============================] - 33s 1s/step - loss: 0.2302 - accuracy: 0.2015 - val_loss: 0.2339 - val_accuracy: 0.1827 - lr: 4.0000e-04\n",
      "Epoch 10/100\n",
      "24/24 [==============================] - 29s 1s/step - loss: 0.2276 - accuracy: 0.2113 - val_loss: 0.2325 - val_accuracy: 0.1760 - lr: 4.0000e-04\n",
      "Epoch 11/100\n",
      "24/24 [==============================] - 31s 1s/step - loss: 0.2254 - accuracy: 0.2262 - val_loss: 0.2311 - val_accuracy: 0.2060 - lr: 4.0000e-04\n",
      "Epoch 12/100\n",
      "24/24 [==============================] - 29s 1s/step - loss: 0.2233 - accuracy: 0.2382 - val_loss: 0.2301 - val_accuracy: 0.1960 - lr: 4.0000e-04\n",
      "Epoch 13/100\n",
      "24/24 [==============================] - 31s 1s/step - loss: 0.2212 - accuracy: 0.2472 - val_loss: 0.2288 - val_accuracy: 0.2133 - lr: 4.0000e-04\n",
      "Epoch 14/100\n",
      "24/24 [==============================] - 29s 1s/step - loss: 0.2193 - accuracy: 0.2545 - val_loss: 0.2280 - val_accuracy: 0.2200 - lr: 4.0000e-04\n",
      "Epoch 15/100\n",
      "24/24 [==============================] - 31s 1s/step - loss: 0.2175 - accuracy: 0.2648 - val_loss: 0.2269 - val_accuracy: 0.2127 - lr: 4.0000e-04\n",
      "Epoch 16/100\n",
      "24/24 [==============================] - 30s 1s/step - loss: 0.2157 - accuracy: 0.2725 - val_loss: 0.2265 - val_accuracy: 0.2253 - lr: 4.0000e-04\n",
      "Epoch 17/100\n",
      "24/24 [==============================] - 31s 1s/step - loss: 0.2141 - accuracy: 0.2800 - val_loss: 0.2254 - val_accuracy: 0.2160 - lr: 4.0000e-04\n",
      "Epoch 18/100\n",
      "24/24 [==============================] - 29s 1s/step - loss: 0.2125 - accuracy: 0.2865 - val_loss: 0.2249 - val_accuracy: 0.2240 - lr: 4.0000e-04\n",
      "Epoch 19/100\n",
      "24/24 [==============================] - 31s 1s/step - loss: 0.2111 - accuracy: 0.2955 - val_loss: 0.2245 - val_accuracy: 0.2267 - lr: 4.0000e-04\n",
      "Epoch 20/100\n",
      "24/24 [==============================] - 29s 1s/step - loss: 0.2097 - accuracy: 0.2988 - val_loss: 0.2241 - val_accuracy: 0.2253 - lr: 4.0000e-04\n",
      "Epoch 21/100\n",
      "24/24 [==============================] - 31s 1s/step - loss: 0.2084 - accuracy: 0.3062 - val_loss: 0.2234 - val_accuracy: 0.2280 - lr: 4.0000e-04\n",
      "Epoch 22/100\n",
      "24/24 [==============================] - 30s 1s/step - loss: 0.2069 - accuracy: 0.3092 - val_loss: 0.2231 - val_accuracy: 0.2293 - lr: 4.0000e-04\n",
      "Epoch 23/100\n",
      "24/24 [==============================] - 31s 1s/step - loss: 0.2057 - accuracy: 0.3188 - val_loss: 0.2225 - val_accuracy: 0.2293 - lr: 4.0000e-04\n",
      "Epoch 24/100\n",
      "24/24 [==============================] - 30s 1s/step - loss: 0.2045 - accuracy: 0.3243 - val_loss: 0.2223 - val_accuracy: 0.2260 - lr: 4.0000e-04\n",
      "Epoch 25/100\n",
      "24/24 [==============================] - 31s 1s/step - loss: 0.2032 - accuracy: 0.3350 - val_loss: 0.2224 - val_accuracy: 0.2320 - lr: 4.0000e-04\n",
      "Epoch 26/100\n",
      "24/24 [==============================] - 30s 1s/step - loss: 0.2022 - accuracy: 0.3365 - val_loss: 0.2217 - val_accuracy: 0.2367 - lr: 4.0000e-04\n",
      "Epoch 27/100\n",
      "24/24 [==============================] - 32s 1s/step - loss: 0.2009 - accuracy: 0.3442 - val_loss: 0.2218 - val_accuracy: 0.2400 - lr: 4.0000e-04\n",
      "Epoch 28/100\n",
      "24/24 [==============================] - 30s 1s/step - loss: 0.1999 - accuracy: 0.3522 - val_loss: 0.2215 - val_accuracy: 0.2467 - lr: 4.0000e-04\n",
      "Epoch 29/100\n",
      "24/24 [==============================] - 31s 1s/step - loss: 0.1987 - accuracy: 0.3592 - val_loss: 0.2211 - val_accuracy: 0.2387 - lr: 8.0000e-05\n",
      "Epoch 30/100\n",
      "24/24 [==============================] - 30s 1s/step - loss: 0.1984 - accuracy: 0.3627 - val_loss: 0.2210 - val_accuracy: 0.2460 - lr: 8.0000e-05\n",
      "Epoch 31/100\n",
      "24/24 [==============================] - 32s 1s/step - loss: 0.1981 - accuracy: 0.3607 - val_loss: 0.2209 - val_accuracy: 0.2447 - lr: 8.0000e-05\n",
      "Epoch 32/100\n",
      "24/24 [==============================] - 29s 1s/step - loss: 0.1979 - accuracy: 0.3622 - val_loss: 0.2210 - val_accuracy: 0.2433 - lr: 8.0000e-05\n",
      "Epoch 33/100\n",
      "24/24 [==============================] - 31s 1s/step - loss: 0.1977 - accuracy: 0.3655 - val_loss: 0.2209 - val_accuracy: 0.2433 - lr: 8.0000e-05\n",
      "Epoch 34/100\n",
      "24/24 [==============================] - 29s 1s/step - loss: 0.1975 - accuracy: 0.3672 - val_loss: 0.2209 - val_accuracy: 0.2447 - lr: 8.0000e-05\n",
      "Epoch 35/100\n",
      "24/24 [==============================] - 31s 1s/step - loss: 0.1972 - accuracy: 0.3670 - val_loss: 0.2209 - val_accuracy: 0.2453 - lr: 1.6000e-05\n",
      "Epoch 36/100\n",
      "24/24 [==============================] - 29s 1s/step - loss: 0.1972 - accuracy: 0.3663 - val_loss: 0.2209 - val_accuracy: 0.2440 - lr: 1.6000e-05\n",
      "Epoch 37/100\n",
      "24/24 [==============================] - 31s 1s/step - loss: 0.1971 - accuracy: 0.3668 - val_loss: 0.2208 - val_accuracy: 0.2460 - lr: 1.6000e-05\n",
      "Epoch 38/100\n",
      "24/24 [==============================] - 29s 1s/step - loss: 0.1971 - accuracy: 0.3668 - val_loss: 0.2209 - val_accuracy: 0.2433 - lr: 1.6000e-05\n",
      "Epoch 39/100\n",
      "24/24 [==============================] - 31s 1s/step - loss: 0.1970 - accuracy: 0.3673 - val_loss: 0.2208 - val_accuracy: 0.2453 - lr: 1.6000e-05\n",
      "Epoch 40/100\n",
      "24/24 [==============================] - 29s 1s/step - loss: 0.1970 - accuracy: 0.3665 - val_loss: 0.2208 - val_accuracy: 0.2453 - lr: 1.0000e-05\n",
      "Epoch 41/100\n",
      "24/24 [==============================] - 31s 1s/step - loss: 0.1970 - accuracy: 0.3670 - val_loss: 0.2208 - val_accuracy: 0.2460 - lr: 1.0000e-05\n",
      "Epoch 42/100\n",
      "24/24 [==============================] - 29s 1s/step - loss: 0.1969 - accuracy: 0.3677 - val_loss: 0.2208 - val_accuracy: 0.2433 - lr: 1.0000e-05\n",
      "Epoch 43/100\n",
      "24/24 [==============================] - 31s 1s/step - loss: 0.1969 - accuracy: 0.3685 - val_loss: 0.2208 - val_accuracy: 0.2460 - lr: 1.0000e-05\n",
      "Epoch 44/100\n",
      "24/24 [==============================] - 29s 1s/step - loss: 0.1969 - accuracy: 0.3673 - val_loss: 0.2208 - val_accuracy: 0.2453 - lr: 1.0000e-05\n",
      "Epoch 45/100\n",
      "24/24 [==============================] - 31s 1s/step - loss: 0.1968 - accuracy: 0.3673 - val_loss: 0.2208 - val_accuracy: 0.2440 - lr: 1.0000e-05\n",
      "Epoch 46/100\n",
      "24/24 [==============================] - 29s 1s/step - loss: 0.1968 - accuracy: 0.3677 - val_loss: 0.2208 - val_accuracy: 0.2433 - lr: 1.0000e-05\n",
      "Epoch 47/100\n",
      "24/24 [==============================] - 31s 1s/step - loss: 0.1968 - accuracy: 0.3673 - val_loss: 0.2207 - val_accuracy: 0.2460 - lr: 1.0000e-05\n",
      "Epoch 48/100\n",
      "24/24 [==============================] - 29s 1s/step - loss: 0.1968 - accuracy: 0.3687 - val_loss: 0.2207 - val_accuracy: 0.2453 - lr: 1.0000e-05\n",
      "Epoch 49/100\n",
      "24/24 [==============================] - 32s 1s/step - loss: 0.1967 - accuracy: 0.3685 - val_loss: 0.2207 - val_accuracy: 0.2453 - lr: 1.0000e-05\n",
      "Epoch 50/100\n",
      "24/24 [==============================] - 29s 1s/step - loss: 0.1967 - accuracy: 0.3682 - val_loss: 0.2207 - val_accuracy: 0.2453 - lr: 1.0000e-05\n",
      "Epoch 51/100\n",
      "24/24 [==============================] - 31s 1s/step - loss: 0.1967 - accuracy: 0.3672 - val_loss: 0.2207 - val_accuracy: 0.2453 - lr: 1.0000e-05\n",
      "Epoch 52/100\n",
      "24/24 [==============================] - 29s 1s/step - loss: 0.1966 - accuracy: 0.3688 - val_loss: 0.2207 - val_accuracy: 0.2433 - lr: 1.0000e-05\n",
      "Epoch 53/100\n",
      "24/24 [==============================] - 31s 1s/step - loss: 0.1966 - accuracy: 0.3685 - val_loss: 0.2207 - val_accuracy: 0.2440 - lr: 1.0000e-05\n",
      "Epoch 54/100\n",
      "24/24 [==============================] - 29s 1s/step - loss: 0.1966 - accuracy: 0.3685 - val_loss: 0.2207 - val_accuracy: 0.2453 - lr: 1.0000e-05\n",
      "Epoch 55/100\n",
      "24/24 [==============================] - 32s 1s/step - loss: 0.1965 - accuracy: 0.3705 - val_loss: 0.2207 - val_accuracy: 0.2440 - lr: 1.0000e-05\n",
      "Epoch 56/100\n",
      " 6/24 [======>.......................] - ETA: 17s - loss: 0.1962 - accuracy: 0.3815"
     ]
    },
    {
     "ename": "KeyboardInterrupt",
     "evalue": "",
     "output_type": "error",
     "traceback": [
      "\u001B[0;31m---------------------------------------------------------------------------\u001B[0m",
      "\u001B[0;31mKeyboardInterrupt\u001B[0m                         Traceback (most recent call last)",
      "Cell \u001B[0;32mIn[83], line 2\u001B[0m\n\u001B[1;32m      1\u001B[0m \u001B[38;5;66;03m# Fit the model to the data\u001B[39;00m\n\u001B[0;32m----> 2\u001B[0m model \u001B[38;5;241m=\u001B[39m \u001B[43mfit_model\u001B[49m\u001B[43m(\u001B[49m\u001B[43m)\u001B[49m;\n",
      "Cell \u001B[0;32mIn[81], line 18\u001B[0m, in \u001B[0;36mfit_model\u001B[0;34m()\u001B[0m\n\u001B[1;32m     15\u001B[0m \u001B[38;5;28mprint\u001B[39m(\u001B[38;5;124m\"\u001B[39m\u001B[38;5;124mModel summary:\u001B[39m\u001B[38;5;124m\"\u001B[39m, model\u001B[38;5;241m.\u001B[39msummary())\n\u001B[1;32m     17\u001B[0m \u001B[38;5;66;03m# Fit the model to the data passing it the callbacks we created\u001B[39;00m\n\u001B[0;32m---> 18\u001B[0m \u001B[43mmodel\u001B[49m\u001B[38;5;241;43m.\u001B[39;49m\u001B[43mfit\u001B[49m\u001B[43m(\u001B[49m\u001B[43mtrain_data\u001B[49m\u001B[43m,\u001B[49m\n\u001B[1;32m     19\u001B[0m \u001B[43m          \u001B[49m\u001B[43mepochs\u001B[49m\u001B[38;5;241;43m=\u001B[39;49m\u001B[43mNUM_EPOCHS\u001B[49m\u001B[43m,\u001B[49m\n\u001B[1;32m     20\u001B[0m \u001B[43m          \u001B[49m\u001B[43mvalidation_data\u001B[49m\u001B[38;5;241;43m=\u001B[39;49m\u001B[43mvalid_data\u001B[49m\u001B[43m,\u001B[49m\n\u001B[1;32m     21\u001B[0m \u001B[43m          \u001B[49m\u001B[43mvalidation_freq\u001B[49m\u001B[38;5;241;43m=\u001B[39;49m\u001B[38;5;241;43m1\u001B[39;49m\u001B[43m,\u001B[49m\n\u001B[1;32m     22\u001B[0m \u001B[43m          \u001B[49m\u001B[43mcallbacks\u001B[49m\u001B[38;5;241;43m=\u001B[39;49m\u001B[43m[\u001B[49m\u001B[43mearly_stopping\u001B[49m\u001B[43m,\u001B[49m\u001B[43m \u001B[49m\u001B[43mlr_scheduler\u001B[49m\u001B[43m,\u001B[49m\u001B[43m \u001B[49m\u001B[43mtensorboard_callback\u001B[49m\u001B[43m]\u001B[49m\u001B[43m)\u001B[49m\n\u001B[1;32m     24\u001B[0m \u001B[38;5;28;01mreturn\u001B[39;00m model\n",
      "File \u001B[0;32m~/mambaforge/envs/chest-xray/lib/python3.8/site-packages/keras/utils/traceback_utils.py:65\u001B[0m, in \u001B[0;36mfilter_traceback.<locals>.error_handler\u001B[0;34m(*args, **kwargs)\u001B[0m\n\u001B[1;32m     63\u001B[0m filtered_tb \u001B[38;5;241m=\u001B[39m \u001B[38;5;28;01mNone\u001B[39;00m\n\u001B[1;32m     64\u001B[0m \u001B[38;5;28;01mtry\u001B[39;00m:\n\u001B[0;32m---> 65\u001B[0m     \u001B[38;5;28;01mreturn\u001B[39;00m \u001B[43mfn\u001B[49m\u001B[43m(\u001B[49m\u001B[38;5;241;43m*\u001B[39;49m\u001B[43margs\u001B[49m\u001B[43m,\u001B[49m\u001B[43m \u001B[49m\u001B[38;5;241;43m*\u001B[39;49m\u001B[38;5;241;43m*\u001B[39;49m\u001B[43mkwargs\u001B[49m\u001B[43m)\u001B[49m\n\u001B[1;32m     66\u001B[0m \u001B[38;5;28;01mexcept\u001B[39;00m \u001B[38;5;167;01mException\u001B[39;00m \u001B[38;5;28;01mas\u001B[39;00m e:\n\u001B[1;32m     67\u001B[0m     filtered_tb \u001B[38;5;241m=\u001B[39m _process_traceback_frames(e\u001B[38;5;241m.\u001B[39m__traceback__)\n",
      "File \u001B[0;32m~/mambaforge/envs/chest-xray/lib/python3.8/site-packages/keras/engine/training.py:1650\u001B[0m, in \u001B[0;36mModel.fit\u001B[0;34m(self, x, y, batch_size, epochs, verbose, callbacks, validation_split, validation_data, shuffle, class_weight, sample_weight, initial_epoch, steps_per_epoch, validation_steps, validation_batch_size, validation_freq, max_queue_size, workers, use_multiprocessing)\u001B[0m\n\u001B[1;32m   1642\u001B[0m \u001B[38;5;28;01mwith\u001B[39;00m tf\u001B[38;5;241m.\u001B[39mprofiler\u001B[38;5;241m.\u001B[39mexperimental\u001B[38;5;241m.\u001B[39mTrace(\n\u001B[1;32m   1643\u001B[0m     \u001B[38;5;124m\"\u001B[39m\u001B[38;5;124mtrain\u001B[39m\u001B[38;5;124m\"\u001B[39m,\n\u001B[1;32m   1644\u001B[0m     epoch_num\u001B[38;5;241m=\u001B[39mepoch,\n\u001B[0;32m   (...)\u001B[0m\n\u001B[1;32m   1647\u001B[0m     _r\u001B[38;5;241m=\u001B[39m\u001B[38;5;241m1\u001B[39m,\n\u001B[1;32m   1648\u001B[0m ):\n\u001B[1;32m   1649\u001B[0m     callbacks\u001B[38;5;241m.\u001B[39mon_train_batch_begin(step)\n\u001B[0;32m-> 1650\u001B[0m     tmp_logs \u001B[38;5;241m=\u001B[39m \u001B[38;5;28;43mself\u001B[39;49m\u001B[38;5;241;43m.\u001B[39;49m\u001B[43mtrain_function\u001B[49m\u001B[43m(\u001B[49m\u001B[43miterator\u001B[49m\u001B[43m)\u001B[49m\n\u001B[1;32m   1651\u001B[0m     \u001B[38;5;28;01mif\u001B[39;00m data_handler\u001B[38;5;241m.\u001B[39mshould_sync:\n\u001B[1;32m   1652\u001B[0m         context\u001B[38;5;241m.\u001B[39masync_wait()\n",
      "File \u001B[0;32m~/mambaforge/envs/chest-xray/lib/python3.8/site-packages/tensorflow/python/util/traceback_utils.py:150\u001B[0m, in \u001B[0;36mfilter_traceback.<locals>.error_handler\u001B[0;34m(*args, **kwargs)\u001B[0m\n\u001B[1;32m    148\u001B[0m filtered_tb \u001B[38;5;241m=\u001B[39m \u001B[38;5;28;01mNone\u001B[39;00m\n\u001B[1;32m    149\u001B[0m \u001B[38;5;28;01mtry\u001B[39;00m:\n\u001B[0;32m--> 150\u001B[0m   \u001B[38;5;28;01mreturn\u001B[39;00m \u001B[43mfn\u001B[49m\u001B[43m(\u001B[49m\u001B[38;5;241;43m*\u001B[39;49m\u001B[43margs\u001B[49m\u001B[43m,\u001B[49m\u001B[43m \u001B[49m\u001B[38;5;241;43m*\u001B[39;49m\u001B[38;5;241;43m*\u001B[39;49m\u001B[43mkwargs\u001B[49m\u001B[43m)\u001B[49m\n\u001B[1;32m    151\u001B[0m \u001B[38;5;28;01mexcept\u001B[39;00m \u001B[38;5;167;01mException\u001B[39;00m \u001B[38;5;28;01mas\u001B[39;00m e:\n\u001B[1;32m    152\u001B[0m   filtered_tb \u001B[38;5;241m=\u001B[39m _process_traceback_frames(e\u001B[38;5;241m.\u001B[39m__traceback__)\n",
      "File \u001B[0;32m~/mambaforge/envs/chest-xray/lib/python3.8/site-packages/tensorflow/python/eager/polymorphic_function/polymorphic_function.py:880\u001B[0m, in \u001B[0;36mFunction.__call__\u001B[0;34m(self, *args, **kwds)\u001B[0m\n\u001B[1;32m    877\u001B[0m compiler \u001B[38;5;241m=\u001B[39m \u001B[38;5;124m\"\u001B[39m\u001B[38;5;124mxla\u001B[39m\u001B[38;5;124m\"\u001B[39m \u001B[38;5;28;01mif\u001B[39;00m \u001B[38;5;28mself\u001B[39m\u001B[38;5;241m.\u001B[39m_jit_compile \u001B[38;5;28;01melse\u001B[39;00m \u001B[38;5;124m\"\u001B[39m\u001B[38;5;124mnonXla\u001B[39m\u001B[38;5;124m\"\u001B[39m\n\u001B[1;32m    879\u001B[0m \u001B[38;5;28;01mwith\u001B[39;00m OptionalXlaContext(\u001B[38;5;28mself\u001B[39m\u001B[38;5;241m.\u001B[39m_jit_compile):\n\u001B[0;32m--> 880\u001B[0m   result \u001B[38;5;241m=\u001B[39m \u001B[38;5;28;43mself\u001B[39;49m\u001B[38;5;241;43m.\u001B[39;49m\u001B[43m_call\u001B[49m\u001B[43m(\u001B[49m\u001B[38;5;241;43m*\u001B[39;49m\u001B[43margs\u001B[49m\u001B[43m,\u001B[49m\u001B[43m \u001B[49m\u001B[38;5;241;43m*\u001B[39;49m\u001B[38;5;241;43m*\u001B[39;49m\u001B[43mkwds\u001B[49m\u001B[43m)\u001B[49m\n\u001B[1;32m    882\u001B[0m new_tracing_count \u001B[38;5;241m=\u001B[39m \u001B[38;5;28mself\u001B[39m\u001B[38;5;241m.\u001B[39mexperimental_get_tracing_count()\n\u001B[1;32m    883\u001B[0m without_tracing \u001B[38;5;241m=\u001B[39m (tracing_count \u001B[38;5;241m==\u001B[39m new_tracing_count)\n",
      "File \u001B[0;32m~/mambaforge/envs/chest-xray/lib/python3.8/site-packages/tensorflow/python/eager/polymorphic_function/polymorphic_function.py:912\u001B[0m, in \u001B[0;36mFunction._call\u001B[0;34m(self, *args, **kwds)\u001B[0m\n\u001B[1;32m    909\u001B[0m   \u001B[38;5;28mself\u001B[39m\u001B[38;5;241m.\u001B[39m_lock\u001B[38;5;241m.\u001B[39mrelease()\n\u001B[1;32m    910\u001B[0m   \u001B[38;5;66;03m# In this case we have created variables on the first call, so we run the\u001B[39;00m\n\u001B[1;32m    911\u001B[0m   \u001B[38;5;66;03m# defunned version which is guaranteed to never create variables.\u001B[39;00m\n\u001B[0;32m--> 912\u001B[0m   \u001B[38;5;28;01mreturn\u001B[39;00m \u001B[38;5;28;43mself\u001B[39;49m\u001B[38;5;241;43m.\u001B[39;49m\u001B[43m_no_variable_creation_fn\u001B[49m\u001B[43m(\u001B[49m\u001B[38;5;241;43m*\u001B[39;49m\u001B[43margs\u001B[49m\u001B[43m,\u001B[49m\u001B[43m \u001B[49m\u001B[38;5;241;43m*\u001B[39;49m\u001B[38;5;241;43m*\u001B[39;49m\u001B[43mkwds\u001B[49m\u001B[43m)\u001B[49m  \u001B[38;5;66;03m# pylint: disable=not-callable\u001B[39;00m\n\u001B[1;32m    913\u001B[0m \u001B[38;5;28;01melif\u001B[39;00m \u001B[38;5;28mself\u001B[39m\u001B[38;5;241m.\u001B[39m_variable_creation_fn \u001B[38;5;129;01mis\u001B[39;00m \u001B[38;5;129;01mnot\u001B[39;00m \u001B[38;5;28;01mNone\u001B[39;00m:\n\u001B[1;32m    914\u001B[0m   \u001B[38;5;66;03m# Release the lock early so that multiple threads can perform the call\u001B[39;00m\n\u001B[1;32m    915\u001B[0m   \u001B[38;5;66;03m# in parallel.\u001B[39;00m\n\u001B[1;32m    916\u001B[0m   \u001B[38;5;28mself\u001B[39m\u001B[38;5;241m.\u001B[39m_lock\u001B[38;5;241m.\u001B[39mrelease()\n",
      "File \u001B[0;32m~/mambaforge/envs/chest-xray/lib/python3.8/site-packages/tensorflow/python/eager/polymorphic_function/tracing_compiler.py:134\u001B[0m, in \u001B[0;36mTracingCompiler.__call__\u001B[0;34m(self, *args, **kwargs)\u001B[0m\n\u001B[1;32m    131\u001B[0m \u001B[38;5;28;01mwith\u001B[39;00m \u001B[38;5;28mself\u001B[39m\u001B[38;5;241m.\u001B[39m_lock:\n\u001B[1;32m    132\u001B[0m   (concrete_function,\n\u001B[1;32m    133\u001B[0m    filtered_flat_args) \u001B[38;5;241m=\u001B[39m \u001B[38;5;28mself\u001B[39m\u001B[38;5;241m.\u001B[39m_maybe_define_function(args, kwargs)\n\u001B[0;32m--> 134\u001B[0m \u001B[38;5;28;01mreturn\u001B[39;00m \u001B[43mconcrete_function\u001B[49m\u001B[38;5;241;43m.\u001B[39;49m\u001B[43m_call_flat\u001B[49m\u001B[43m(\u001B[49m\n\u001B[1;32m    135\u001B[0m \u001B[43m    \u001B[49m\u001B[43mfiltered_flat_args\u001B[49m\u001B[43m,\u001B[49m\u001B[43m \u001B[49m\u001B[43mcaptured_inputs\u001B[49m\u001B[38;5;241;43m=\u001B[39;49m\u001B[43mconcrete_function\u001B[49m\u001B[38;5;241;43m.\u001B[39;49m\u001B[43mcaptured_inputs\u001B[49m\u001B[43m)\u001B[49m\n",
      "File \u001B[0;32m~/mambaforge/envs/chest-xray/lib/python3.8/site-packages/tensorflow/python/eager/polymorphic_function/monomorphic_function.py:1745\u001B[0m, in \u001B[0;36mConcreteFunction._call_flat\u001B[0;34m(self, args, captured_inputs, cancellation_manager)\u001B[0m\n\u001B[1;32m   1741\u001B[0m possible_gradient_type \u001B[38;5;241m=\u001B[39m gradients_util\u001B[38;5;241m.\u001B[39mPossibleTapeGradientTypes(args)\n\u001B[1;32m   1742\u001B[0m \u001B[38;5;28;01mif\u001B[39;00m (possible_gradient_type \u001B[38;5;241m==\u001B[39m gradients_util\u001B[38;5;241m.\u001B[39mPOSSIBLE_GRADIENT_TYPES_NONE\n\u001B[1;32m   1743\u001B[0m     \u001B[38;5;129;01mand\u001B[39;00m executing_eagerly):\n\u001B[1;32m   1744\u001B[0m   \u001B[38;5;66;03m# No tape is watching; skip to running the function.\u001B[39;00m\n\u001B[0;32m-> 1745\u001B[0m   \u001B[38;5;28;01mreturn\u001B[39;00m \u001B[38;5;28mself\u001B[39m\u001B[38;5;241m.\u001B[39m_build_call_outputs(\u001B[38;5;28;43mself\u001B[39;49m\u001B[38;5;241;43m.\u001B[39;49m\u001B[43m_inference_function\u001B[49m\u001B[38;5;241;43m.\u001B[39;49m\u001B[43mcall\u001B[49m\u001B[43m(\u001B[49m\n\u001B[1;32m   1746\u001B[0m \u001B[43m      \u001B[49m\u001B[43mctx\u001B[49m\u001B[43m,\u001B[49m\u001B[43m \u001B[49m\u001B[43margs\u001B[49m\u001B[43m,\u001B[49m\u001B[43m \u001B[49m\u001B[43mcancellation_manager\u001B[49m\u001B[38;5;241;43m=\u001B[39;49m\u001B[43mcancellation_manager\u001B[49m\u001B[43m)\u001B[49m)\n\u001B[1;32m   1747\u001B[0m forward_backward \u001B[38;5;241m=\u001B[39m \u001B[38;5;28mself\u001B[39m\u001B[38;5;241m.\u001B[39m_select_forward_and_backward_functions(\n\u001B[1;32m   1748\u001B[0m     args,\n\u001B[1;32m   1749\u001B[0m     possible_gradient_type,\n\u001B[1;32m   1750\u001B[0m     executing_eagerly)\n\u001B[1;32m   1751\u001B[0m forward_function, args_with_tangents \u001B[38;5;241m=\u001B[39m forward_backward\u001B[38;5;241m.\u001B[39mforward()\n",
      "File \u001B[0;32m~/mambaforge/envs/chest-xray/lib/python3.8/site-packages/tensorflow/python/eager/polymorphic_function/monomorphic_function.py:378\u001B[0m, in \u001B[0;36m_EagerDefinedFunction.call\u001B[0;34m(self, ctx, args, cancellation_manager)\u001B[0m\n\u001B[1;32m    376\u001B[0m \u001B[38;5;28;01mwith\u001B[39;00m _InterpolateFunctionError(\u001B[38;5;28mself\u001B[39m):\n\u001B[1;32m    377\u001B[0m   \u001B[38;5;28;01mif\u001B[39;00m cancellation_manager \u001B[38;5;129;01mis\u001B[39;00m \u001B[38;5;28;01mNone\u001B[39;00m:\n\u001B[0;32m--> 378\u001B[0m     outputs \u001B[38;5;241m=\u001B[39m \u001B[43mexecute\u001B[49m\u001B[38;5;241;43m.\u001B[39;49m\u001B[43mexecute\u001B[49m\u001B[43m(\u001B[49m\n\u001B[1;32m    379\u001B[0m \u001B[43m        \u001B[49m\u001B[38;5;28;43mstr\u001B[39;49m\u001B[43m(\u001B[49m\u001B[38;5;28;43mself\u001B[39;49m\u001B[38;5;241;43m.\u001B[39;49m\u001B[43msignature\u001B[49m\u001B[38;5;241;43m.\u001B[39;49m\u001B[43mname\u001B[49m\u001B[43m)\u001B[49m\u001B[43m,\u001B[49m\n\u001B[1;32m    380\u001B[0m \u001B[43m        \u001B[49m\u001B[43mnum_outputs\u001B[49m\u001B[38;5;241;43m=\u001B[39;49m\u001B[38;5;28;43mself\u001B[39;49m\u001B[38;5;241;43m.\u001B[39;49m\u001B[43m_num_outputs\u001B[49m\u001B[43m,\u001B[49m\n\u001B[1;32m    381\u001B[0m \u001B[43m        \u001B[49m\u001B[43minputs\u001B[49m\u001B[38;5;241;43m=\u001B[39;49m\u001B[43margs\u001B[49m\u001B[43m,\u001B[49m\n\u001B[1;32m    382\u001B[0m \u001B[43m        \u001B[49m\u001B[43mattrs\u001B[49m\u001B[38;5;241;43m=\u001B[39;49m\u001B[43mattrs\u001B[49m\u001B[43m,\u001B[49m\n\u001B[1;32m    383\u001B[0m \u001B[43m        \u001B[49m\u001B[43mctx\u001B[49m\u001B[38;5;241;43m=\u001B[39;49m\u001B[43mctx\u001B[49m\u001B[43m)\u001B[49m\n\u001B[1;32m    384\u001B[0m   \u001B[38;5;28;01melse\u001B[39;00m:\n\u001B[1;32m    385\u001B[0m     outputs \u001B[38;5;241m=\u001B[39m execute\u001B[38;5;241m.\u001B[39mexecute_with_cancellation(\n\u001B[1;32m    386\u001B[0m         \u001B[38;5;28mstr\u001B[39m(\u001B[38;5;28mself\u001B[39m\u001B[38;5;241m.\u001B[39msignature\u001B[38;5;241m.\u001B[39mname),\n\u001B[1;32m    387\u001B[0m         num_outputs\u001B[38;5;241m=\u001B[39m\u001B[38;5;28mself\u001B[39m\u001B[38;5;241m.\u001B[39m_num_outputs,\n\u001B[0;32m   (...)\u001B[0m\n\u001B[1;32m    390\u001B[0m         ctx\u001B[38;5;241m=\u001B[39mctx,\n\u001B[1;32m    391\u001B[0m         cancellation_manager\u001B[38;5;241m=\u001B[39mcancellation_manager)\n",
      "File \u001B[0;32m~/mambaforge/envs/chest-xray/lib/python3.8/site-packages/tensorflow/python/eager/execute.py:52\u001B[0m, in \u001B[0;36mquick_execute\u001B[0;34m(op_name, num_outputs, inputs, attrs, ctx, name)\u001B[0m\n\u001B[1;32m     50\u001B[0m \u001B[38;5;28;01mtry\u001B[39;00m:\n\u001B[1;32m     51\u001B[0m   ctx\u001B[38;5;241m.\u001B[39mensure_initialized()\n\u001B[0;32m---> 52\u001B[0m   tensors \u001B[38;5;241m=\u001B[39m \u001B[43mpywrap_tfe\u001B[49m\u001B[38;5;241;43m.\u001B[39;49m\u001B[43mTFE_Py_Execute\u001B[49m\u001B[43m(\u001B[49m\u001B[43mctx\u001B[49m\u001B[38;5;241;43m.\u001B[39;49m\u001B[43m_handle\u001B[49m\u001B[43m,\u001B[49m\u001B[43m \u001B[49m\u001B[43mdevice_name\u001B[49m\u001B[43m,\u001B[49m\u001B[43m \u001B[49m\u001B[43mop_name\u001B[49m\u001B[43m,\u001B[49m\n\u001B[1;32m     53\u001B[0m \u001B[43m                                      \u001B[49m\u001B[43minputs\u001B[49m\u001B[43m,\u001B[49m\u001B[43m \u001B[49m\u001B[43mattrs\u001B[49m\u001B[43m,\u001B[49m\u001B[43m \u001B[49m\u001B[43mnum_outputs\u001B[49m\u001B[43m)\u001B[49m\n\u001B[1;32m     54\u001B[0m \u001B[38;5;28;01mexcept\u001B[39;00m core\u001B[38;5;241m.\u001B[39m_NotOkStatusException \u001B[38;5;28;01mas\u001B[39;00m e:\n\u001B[1;32m     55\u001B[0m   \u001B[38;5;28;01mif\u001B[39;00m name \u001B[38;5;129;01mis\u001B[39;00m \u001B[38;5;129;01mnot\u001B[39;00m \u001B[38;5;28;01mNone\u001B[39;00m:\n",
      "\u001B[0;31mKeyboardInterrupt\u001B[0m: "
     ]
    }
   ],
   "source": [
    "# Fit the model to the data\n",
    "model = fit_model();"
   ],
   "metadata": {
    "collapsed": false
   }
  },
  {
   "cell_type": "code",
   "execution_count": 49,
   "outputs": [],
   "source": [
    "# %tensorboard --load_fast=false --bind_all --logdir \"/Users/blazej.przybyszewski/Desktop/src/chest-xray-classification/data/logs\""
   ],
   "metadata": {
    "collapsed": false
   }
  },
  {
   "cell_type": "code",
   "execution_count": 65,
   "outputs": [
    {
     "data": {
      "text/plain": "Launching TensorBoard..."
     },
     "metadata": {},
     "output_type": "display_data"
    }
   ],
   "source": [
    "%tensorboard --logdir \"/Users/blazej.przybyszewski/Desktop/src/data/logs\""
   ],
   "metadata": {
    "collapsed": false
   }
  },
  {
   "cell_type": "code",
   "execution_count": null,
   "outputs": [],
   "source": [],
   "metadata": {
    "collapsed": false
   }
  }
 ],
 "metadata": {
  "kernelspec": {
   "name": "tensorflow-metal",
   "language": "python",
   "display_name": "Python 3.8 (tensorflow-metal)"
  },
  "language_info": {
   "codemirror_mode": {
    "name": "ipython",
    "version": 3
   },
   "file_extension": ".py",
   "mimetype": "text/x-python",
   "name": "python",
   "nbconvert_exporter": "python",
   "pygments_lexer": "ipython3",
   "version": "3.8.15"
  }
 },
 "nbformat": 4,
 "nbformat_minor": 5
}
